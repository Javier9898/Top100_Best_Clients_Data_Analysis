{
  "nbformat": 4,
  "nbformat_minor": 0,
  "metadata": {
    "colab": {
      "name": "Alpha_Coding_Challenge_JavierJimenez.ipynb",
      "provenance": [],
      "collapsed_sections": [],
      "toc_visible": true,
      "include_colab_link": true
    },
    "kernelspec": {
      "name": "python3",
      "display_name": "Python 3"
    }
  },
  "cells": [
    {
      "cell_type": "markdown",
      "metadata": {
        "id": "view-in-github",
        "colab_type": "text"
      },
      "source": [
        "<a href=\"https://colab.research.google.com/github/Javier9898/Top100_Best_Clients_Data_Analysis/blob/master/Alpha_Coding_Challenge_JavierJimenez.ipynb\" target=\"_parent\"><img src=\"https://colab.research.google.com/assets/colab-badge.svg\" alt=\"Open In Colab\"/></a>"
      ]
    },
    {
      "cell_type": "markdown",
      "metadata": {
        "id": "22emd_00fRv7",
        "colab_type": "text"
      },
      "source": [
        "# **Alpha Coding Challenge - English**\n",
        "by Javier Jiménez (8-937-639)"
      ]
    },
    {
      "cell_type": "markdown",
      "metadata": {
        "id": "g3JPN6PPhPxr",
        "colab_type": "text"
      },
      "source": [
        "## **Business Problem**\n",
        "Alpha specializes in delivering technology solutions. One of their engagement models is IT Staff Augmentation, where they offer their engineers as part of an extension of the client´s teams. Approximately, 95% of their engineers are located in LATAM. Currently, this company is looking to expand their client portfolio by sending an email marketing campaign."
      ]
    },
    {
      "cell_type": "markdown",
      "metadata": {
        "id": "Mia1ASmrgD1y",
        "colab_type": "text"
      },
      "source": [
        "## **Problem Statement**\n",
        "A file containing LinkedIn public data has been provided. Given this information, Alpha would like to know the top 100 people with the highest chance of becoming their client."
      ]
    },
    {
      "cell_type": "markdown",
      "metadata": {
        "id": "dn5wQjxprDE4",
        "colab_type": "text"
      },
      "source": [
        "## **Data:**\n",
        "The data used will be the one in the file provided: people.in"
      ]
    },
    {
      "cell_type": "markdown",
      "metadata": {
        "id": "r8rVpHJAsfQD",
        "colab_type": "text"
      },
      "source": [
        "### **At the end of this notebook I'll mention:**\n",
        "\n",
        "1.   Ways in which my algorithm could be improved.\n",
        "2.   What additional data I would consider to be relevant to improve my algorithm."
      ]
    },
    {
      "cell_type": "markdown",
      "metadata": {
        "id": "bNPhrCZmgGWL",
        "colab_type": "text"
      },
      "source": [
        "\n",
        "\n",
        "---\n",
        "\n",
        "\n",
        "\n",
        "---\n",
        "\n"
      ]
    },
    {
      "cell_type": "markdown",
      "metadata": {
        "id": "ksva6EaXgKIv",
        "colab_type": "text"
      },
      "source": [
        "## **Code**"
      ]
    },
    {
      "cell_type": "code",
      "metadata": {
        "id": "UDF6rdlxEw7X",
        "colab_type": "code",
        "colab": {
          "base_uri": "https://localhost:8080/",
          "height": 292
        },
        "outputId": "43b803f5-dce2-47ae-d4a3-75fc5a9b8a36"
      },
      "source": [
        "#installing google translate library\n",
        "!pip install googletrans"
      ],
      "execution_count": null,
      "outputs": [
        {
          "output_type": "stream",
          "text": [
            "Requirement already satisfied: googletrans in /usr/local/lib/python3.6/dist-packages (3.0.0)\n",
            "Requirement already satisfied: httpx==0.13.3 in /usr/local/lib/python3.6/dist-packages (from googletrans) (0.13.3)\n",
            "Requirement already satisfied: hstspreload in /usr/local/lib/python3.6/dist-packages (from httpx==0.13.3->googletrans) (2020.9.2)\n",
            "Requirement already satisfied: sniffio in /usr/local/lib/python3.6/dist-packages (from httpx==0.13.3->googletrans) (1.1.0)\n",
            "Requirement already satisfied: rfc3986<2,>=1.3 in /usr/local/lib/python3.6/dist-packages (from httpx==0.13.3->googletrans) (1.4.0)\n",
            "Requirement already satisfied: idna==2.* in /usr/local/lib/python3.6/dist-packages (from httpx==0.13.3->googletrans) (2.10)\n",
            "Requirement already satisfied: certifi in /usr/local/lib/python3.6/dist-packages (from httpx==0.13.3->googletrans) (2020.6.20)\n",
            "Requirement already satisfied: httpcore==0.9.* in /usr/local/lib/python3.6/dist-packages (from httpx==0.13.3->googletrans) (0.9.1)\n",
            "Requirement already satisfied: chardet==3.* in /usr/local/lib/python3.6/dist-packages (from httpx==0.13.3->googletrans) (3.0.4)\n",
            "Requirement already satisfied: contextvars>=2.1; python_version < \"3.7\" in /usr/local/lib/python3.6/dist-packages (from sniffio->httpx==0.13.3->googletrans) (2.4)\n",
            "Requirement already satisfied: h11<0.10,>=0.8 in /usr/local/lib/python3.6/dist-packages (from httpcore==0.9.*->httpx==0.13.3->googletrans) (0.9.0)\n",
            "Requirement already satisfied: h2==3.* in /usr/local/lib/python3.6/dist-packages (from httpcore==0.9.*->httpx==0.13.3->googletrans) (3.2.0)\n",
            "Requirement already satisfied: immutables>=0.9 in /usr/local/lib/python3.6/dist-packages (from contextvars>=2.1; python_version < \"3.7\"->sniffio->httpx==0.13.3->googletrans) (0.14)\n",
            "Requirement already satisfied: hyperframe<6,>=5.2.0 in /usr/local/lib/python3.6/dist-packages (from h2==3.*->httpcore==0.9.*->httpx==0.13.3->googletrans) (5.2.0)\n",
            "Requirement already satisfied: hpack<4,>=3.0 in /usr/local/lib/python3.6/dist-packages (from h2==3.*->httpcore==0.9.*->httpx==0.13.3->googletrans) (3.0.0)\n"
          ],
          "name": "stdout"
        }
      ]
    },
    {
      "cell_type": "markdown",
      "metadata": {
        "id": "Q3AbnZcmgNXA",
        "colab_type": "text"
      },
      "source": [
        "## Libraries"
      ]
    },
    {
      "cell_type": "code",
      "metadata": {
        "id": "zpdpREHJFCSC",
        "colab_type": "code",
        "colab": {}
      },
      "source": [
        "import numpy as np # Multi-dimensional arrays and matrices\n",
        "import pandas as pd # Data manipulation\n",
        "\n",
        "import re # Provides regular expression matching operations\n",
        "import os # Provides functions for interacting with the operating system\n",
        "from googletrans import Translator # Allows translation"
      ],
      "execution_count": null,
      "outputs": []
    },
    {
      "cell_type": "markdown",
      "metadata": {
        "id": "Ryxn93r_hEjj",
        "colab_type": "text"
      },
      "source": [
        "## Loading The Data In"
      ]
    },
    {
      "cell_type": "markdown",
      "metadata": {
        "id": "DT7ZpoCqeej2",
        "colab_type": "text"
      },
      "source": [
        "I'll load in a \"people.in\" file and transform it into a csv file so I'm able to open it with Python's Pandas library to manipulate the data and store it in a Dataframe."
      ]
    },
    {
      "cell_type": "code",
      "metadata": {
        "id": "Y9oWemKOFHYh",
        "colab_type": "code",
        "colab": {}
      },
      "source": [
        "# Loading the data in\n",
        "file_path = 'people.in'\n",
        "base = os.path.splitext(file_path)[0]\n",
        "os.rename(file_path, base+'(in)' + '.csv')\n",
        "\n",
        "people = pd.read_csv(\"people(in).csv\", sep='|', header=None)"
      ],
      "execution_count": null,
      "outputs": []
    },
    {
      "cell_type": "markdown",
      "metadata": {
        "id": "0QUulbEChIZ4",
        "colab_type": "text"
      },
      "source": [
        "## Data Cleaning"
      ]
    },
    {
      "cell_type": "markdown",
      "metadata": {
        "id": "w1NAsfHqe5w5",
        "colab_type": "text"
      },
      "source": [
        "The data came with no headers so I'll add them to the Dataframe."
      ]
    },
    {
      "cell_type": "code",
      "metadata": {
        "id": "-WzTYMN5FKlr",
        "colab_type": "code",
        "colab": {}
      },
      "source": [
        "# Adding column names to the dataframe\n",
        "people.columns = ['PersonId', 'Name', 'LastName', 'CurrentRole', 'Country', \n",
        "                  'Industry', 'NumberOfRecommendations', 'NumberOfConnections']"
      ],
      "execution_count": null,
      "outputs": []
    },
    {
      "cell_type": "markdown",
      "metadata": {
        "id": "IurI-l0xfKyq",
        "colab_type": "text"
      },
      "source": [
        "Requesting a small sample to get an idea of what the dataframe looks like."
      ]
    },
    {
      "cell_type": "code",
      "metadata": {
        "id": "qHjWlbi4A6J4",
        "colab_type": "code",
        "colab": {
          "base_uri": "https://localhost:8080/",
          "height": 210
        },
        "outputId": "d797b0fd-bde0-4507-8b06-86ce6aa03530"
      },
      "source": [
        "# Requesting a small sample of 3 rows\n",
        "people.sample(3)"
      ],
      "execution_count": null,
      "outputs": [
        {
          "output_type": "execute_result",
          "data": {
            "text/html": [
              "<div>\n",
              "<style scoped>\n",
              "    .dataframe tbody tr th:only-of-type {\n",
              "        vertical-align: middle;\n",
              "    }\n",
              "\n",
              "    .dataframe tbody tr th {\n",
              "        vertical-align: top;\n",
              "    }\n",
              "\n",
              "    .dataframe thead th {\n",
              "        text-align: right;\n",
              "    }\n",
              "</style>\n",
              "<table border=\"1\" class=\"dataframe\">\n",
              "  <thead>\n",
              "    <tr style=\"text-align: right;\">\n",
              "      <th></th>\n",
              "      <th>PersonId</th>\n",
              "      <th>Name</th>\n",
              "      <th>LastName</th>\n",
              "      <th>CurrentRole</th>\n",
              "      <th>Country</th>\n",
              "      <th>Industry</th>\n",
              "      <th>NumberOfRecommendations</th>\n",
              "      <th>NumberOfConnections</th>\n",
              "    </tr>\n",
              "  </thead>\n",
              "  <tbody>\n",
              "    <tr>\n",
              "      <th>1544</th>\n",
              "      <td>643484188</td>\n",
              "      <td>stephanie</td>\n",
              "      <td>clough</td>\n",
              "      <td>board member</td>\n",
              "      <td>United States</td>\n",
              "      <td>Education</td>\n",
              "      <td>0</td>\n",
              "      <td>0</td>\n",
              "    </tr>\n",
              "    <tr>\n",
              "      <th>656</th>\n",
              "      <td>642898440</td>\n",
              "      <td>stuart</td>\n",
              "      <td>pritchard</td>\n",
              "      <td>financial conduct authority</td>\n",
              "      <td>United Kingdom</td>\n",
              "      <td>Financial Services</td>\n",
              "      <td>0</td>\n",
              "      <td>0</td>\n",
              "    </tr>\n",
              "    <tr>\n",
              "      <th>678</th>\n",
              "      <td>640116641</td>\n",
              "      <td>claire</td>\n",
              "      <td>green</td>\n",
              "      <td>sales and marketing manager</td>\n",
              "      <td>United Kingdom</td>\n",
              "      <td>Consumer Services</td>\n",
              "      <td>0</td>\n",
              "      <td>0</td>\n",
              "    </tr>\n",
              "  </tbody>\n",
              "</table>\n",
              "</div>"
            ],
            "text/plain": [
              "       PersonId       Name  ... NumberOfRecommendations NumberOfConnections\n",
              "1544  643484188  stephanie  ...                       0                   0\n",
              "656   642898440     stuart  ...                       0                   0\n",
              "678   640116641     claire  ...                       0                   0\n",
              "\n",
              "[3 rows x 8 columns]"
            ]
          },
          "metadata": {
            "tags": []
          },
          "execution_count": 5
        }
      ]
    },
    {
      "cell_type": "markdown",
      "metadata": {
        "id": "hner5Q3xfVGI",
        "colab_type": "text"
      },
      "source": [
        "Next I'm going to check if there are any anomalies."
      ]
    },
    {
      "cell_type": "code",
      "metadata": {
        "id": "SQVuYOKZBMDY",
        "colab_type": "code",
        "colab": {
          "base_uri": "https://localhost:8080/",
          "height": 272
        },
        "outputId": "6de16eba-f264-4c03-cb22-f1ec2b34dd1a"
      },
      "source": [
        "#checking the data info for any anomalies\n",
        "people.info()"
      ],
      "execution_count": null,
      "outputs": [
        {
          "output_type": "stream",
          "text": [
            "<class 'pandas.core.frame.DataFrame'>\n",
            "RangeIndex: 2779 entries, 0 to 2778\n",
            "Data columns (total 8 columns):\n",
            " #   Column                   Non-Null Count  Dtype \n",
            "---  ------                   --------------  ----- \n",
            " 0   PersonId                 2779 non-null   int64 \n",
            " 1   Name                     2778 non-null   object\n",
            " 2   LastName                 2776 non-null   object\n",
            " 3   CurrentRole              2155 non-null   object\n",
            " 4   Country                  2777 non-null   object\n",
            " 5   Industry                 2779 non-null   object\n",
            " 6   NumberOfRecommendations  2779 non-null   int64 \n",
            " 7   NumberOfConnections      2779 non-null   int64 \n",
            "dtypes: int64(3), object(5)\n",
            "memory usage: 173.8+ KB\n"
          ],
          "name": "stdout"
        }
      ]
    },
    {
      "cell_type": "markdown",
      "metadata": {
        "id": "axNNG2g6-TJE",
        "colab_type": "text"
      },
      "source": [
        "I´ll drop the Name and LastName columns since these factors don't significally affect the quality of a client."
      ]
    },
    {
      "cell_type": "code",
      "metadata": {
        "id": "4oD3ccJ4FLB0",
        "colab_type": "code",
        "colab": {}
      },
      "source": [
        "# Dropping Name and LastName columns\n",
        "people = people.drop(columns= ['Name', 'LastName'])"
      ],
      "execution_count": null,
      "outputs": []
    },
    {
      "cell_type": "markdown",
      "metadata": {
        "id": "9hcrr5CmA_i1",
        "colab_type": "text"
      },
      "source": [
        "I'll be deleteing all the rows containing NaNs since they only come from **CurrentRole** and **Country**. Nan values in the CurrentRole column could mean these people are currently unemployed in their industry and probably don't require Alpha's services. The reason why I'll delete NaN values in the Country column is because of the miniscule amount of unanswered values that are in it. Deleting these NaN values will reduce the size of the dataset and might help me get results faster while filtering it to choose the best clients."
      ]
    },
    {
      "cell_type": "code",
      "metadata": {
        "id": "Dsx_bfwOFLT7",
        "colab_type": "code",
        "colab": {}
      },
      "source": [
        "# Deleteing all the rows containing NaNs\n",
        "people = people.dropna()"
      ],
      "execution_count": null,
      "outputs": []
    },
    {
      "cell_type": "markdown",
      "metadata": {
        "id": "DVhj-wU_EsiW",
        "colab_type": "text"
      },
      "source": [
        "It is important to make sure that all the data is in the same language. With the help of the Google Translate library I´ll be able to translate the all data to english if some of it previously wasn't."
      ]
    },
    {
      "cell_type": "code",
      "metadata": {
        "id": "aEcCvC6ILCJC",
        "colab_type": "code",
        "colab": {
          "base_uri": "https://localhost:8080/",
          "height": 54
        },
        "outputId": "6615bafd-63df-41b4-9d0d-772c172a2c71"
      },
      "source": [
        "# making sure the data is in the same language\n",
        "\n",
        "translator=Translator()\n",
        "\n",
        "translations = {}\n",
        "for column in people[[\"CurrentRole\", \"Industry\"]]:\n",
        "    # unique elements of the column\n",
        "    unique_elements = people[column].unique()\n",
        "    for element in unique_elements:\n",
        "        # add translation to the dictionary\n",
        "        translations[element] = translator.translate(element).text\n",
        "    \n",
        "print(translations) # to make sure everything is adequately transalted"
      ],
      "execution_count": null,
      "outputs": [
        {
          "output_type": "stream",
          "text": [
            "{'vice president': 'vice president', 'chief revenue officer': 'chief revenue officer', 'vp, customer operations and support': 'vp, customer operations and support', 'vice president, support services': 'vice president, support services', 'vice president de administraci?n de negocios': 'vice president of business administration', 'investment professional': 'investment professional', 'president and chief executive officer': 'president and chief executive officer', 'vice president and treasurer': 'vice president and treasurer', 'vice president - mobile devices and logistics': 'vice president - mobile devices and logistics', 'vice president - studio media strategy and operations': 'vice president - studio media strategy and operations', 'vice president engineering': 'vice president engineering', 'managing director': 'managing director', 'president': 'president', 'vice president of accounting': 'vice president of accounting', 'chief information officer': 'chief information officer', 'chief technology officer': 'chief technology officer', 'partner': 'partner', 'senior vice president human resources development and change': 'senior vice president human resources development and change', 'board member': 'board member', 'vice president, real estate, accounting': 'vice president, real estate, accounting', 'vice president of marketing': 'vice president of marketing', 'vice president of sales': 'vice president of sales', 'vice president solutions architecture': 'vice president solutions architecture', 'vice president , dc sales': 'vice president , dc sales', 'vice president, client management': 'vice president, client management', 'regional vice president': 'regional vice president', 'executive vice president mobile services': 'executive vice president mobile services', 'master franchise owner and country general manager': 'master franchise owner and country general manager', 'vice president sales': 'vice president sales', 'senior vice president': 'senior vice president', 'creative services': 'creative services', 'chief executive officer': 'chief executive officer', 'director - customer engagement': 'director - customer engagement', 'chief operating officer': 'chief operating officer', 'vp': 'vp', 'chassis manager, cost engineering': 'chassis manager, cost engineering', 'vice president projects': 'vice president projects', 'board co-chair': 'board co-chair', 'executive vice president , sales': 'executive vice president , sales', 'vice president and general manager': 'vice president and general manager', 'vice president and chief information officer': 'vice president and chief information officer', 'senior vice president, television operations': 'senior vice president, television operations', 'vice president of operations': 'vice president of operations', 'vice president marketing': 'vice president marketing', 'vice president , development': 'vice president , development', 'vice president and medical director, usaa life insurance and investment services': 'vice president and medical director, usaa life insurance and investment services', 'executive vice president, procurement': 'executive vice president, procurement', 'associate vice president': 'associate vice president', 'senior automation analyst': 'senior automation analyst', 'vice president, finance': 'vice president, finance', 'chairman and chief executive officer': 'chairman and chief executive officer', 'executive vice president': 'executive vice president', 'photographer': 'photographer', 'director': 'director', 'senior program manager - inbound supply chain': 'senior program manager - inbound supply chain', 'senior vice president , program management and development': 'senior vice president , program management and development', 'board vice president': 'board vice president', 'senior vice president global content': 'senior vice president global content', 'vice president, people': 'vice president, people', 'vice president strategy and business development': 'vice president strategy and business development', 'president, chief executive officer, fedex global supply chain services': 'president, chief executive officer, fedex global supply chain services', 'manager-technology': 'manager-technology', 'president and co-founder': 'president and co-founder', 'marketing and communication manager': 'marketing and communication manager', 'vice president, foreign exchange trading': 'vice president, foreign exchange trading', 'eric le flour, vice president, product and business management': 'eric le flour, vice president, product and business management', 'vice president, human resources, division': 'vice president, human resources, division', 'account manager': 'account manager', 'project manager': 'project manager', 'vice president internal affairs, communications': 'vice president internal affairs, communications', 'president-elect': 'president-elect', 'director of operations': 'director of operations', 'senior director quality': 'senior director quality', 'vice president, product management': 'vice president, product management', 'proctor': 'proctor', 'chief executive officer and managing director': 'chief executive officer and managing director', 'retail sales representative': 'retail sales representative', 'strategic account director,- technology vertical': 'strategic account director,- technology vertical', 'systems architect': 'systems architect', 'payroll administrator': 'payroll administrator', 'web developer': 'web developer', 'resolution specialist': 'resolution specialist', 'social media sales associate': 'social media sales associate', 'network engineer': 'network engineer', 'vice president admin': 'vice president admin', 'project service specialist': 'project service specialist', 'manager of service parts engineering': 'manager of service parts engineering', 'operations manager': 'operations manager', 'talent development manager': 'talent development manager', 'telesales manager': 'telesales manager', 'client services manager': 'client services manager', 'general manager': 'general manager', 'general accounting manager': 'general accounting manager', 'translations engineer': 'translations engineer', 'marketing manager and owner': 'marketing manager and owner', 'assistant to senior vice president - head of global human resources, legal and compliance': 'assistant to senior vice president - head of global human resources, legal and compliance', 'assistant vice president and mortgage compliance': 'assistant vice president and mortgage compliance', 'assistant vice president and relationship manager': 'assistant vice president and relationship manager', 'assistant vice president': 'assistant vice president', 'cargo agent': 'cargo agent', 'founder and business development': 'founder and business development', 'global meeting planner': 'global meeting planner', 'funeral director and embalmer': 'funeral director and embalmer', 'funeral director': 'funeral director', 'vice president - operations': 'vice president - operations', 'novelist': 'novelist', 'audit manager': 'audit manager', 'group vice president operations - laminates and panels': 'group vice president operations - laminates and panels', 'group executive vice president and chief business process officer': 'group executive vice president and chief business process officer', 'ssu human resources': 'ssu human resources', 'maintenance accountant': 'maintenance accountant', 'broker': 'broker', 'senior accountant ssc, chief accountant': 'senior accountant ssc, chief accountant', 'research and development program manager': 'research and development program manager', 'software developer': 'software developer', 'oracle dba': 'oracle dba', 'unified communications deputy': 'unified communications deputy', 'architect': 'architect', 'senior sourcing specialist': 'senior sourcing specialist', 'director of evaluation strategies, evaluation systems group': 'director of evaluation strategies, evaluation systems group', 'your testing partner': 'your testing partner', 'network security engineer': 'network security engineer', 'director, program management': 'director, program management', 'business development manager': 'business development manager', 'developer': 'developer', 'senior test engineer': 'senior test engineer', 'database architect': 'database architect', 'regional sales director': 'regional sales director', 'senior director, assistant treasurer': 'senior director, assistant treasurer', 'senior voice engineer': 'senior voice engineer', 'technical project manager': 'technical project manager', 'co-founder, chief operating officer': 'co-founder, chief operating officer', 'director of specialties': 'director of specialties', 'program manager': 'program manager', 'senior director, information security operations': 'senior director, information security operations', 'senior project manager': 'senior project manager', 'president elect': 'president elect', 'global past president': 'global past president', 'chief executive officer and senior appraiser': 'chief executive officer and senior appraiser', 'founder and chief executive officer': 'founder and chief executive officer', 'electrical and plumbing and appliance repair services': 'electrical and plumbing and appliance repair services', 'dir-network assurance': 'dir-network assurance', 'global supply management': 'global supply management', 'carrier operations': 'carrier operations', 'professional services engagement manager': 'professional services engagement manager', 'regional sales manager': 'regional sales manager', 'western region general manager': 'western region general manager', 'manager': 'manager', 'account director cúram solutions': 'account director care solutions', 'contractor': 'contractor', 'buyer': 'buyer', 'splst principal, ingénierie systèmes clients': 'main splst, customer systems engineering', 'team lead sd': 'team lead sd', 'account executive': 'account executive', 'director, sales': 'director, sales', 'overnight support technician': 'overnight support technician', 'display analyst , associate account management': 'display analyst , associate account management', 'owner': 'owner', 'engineering manager': 'engineering manager', 'accounts payable analyst': 'accounts payable analyst', 'engineer-php,  auto e-com': 'engineer-php, auto e-com', 'sales': 'sales', 'senior network operations specialist': 'senior network operations specialist', 'administrative services manager': 'administrative services manager', 'software engineer iii': 'software engineer iii', 'team leader': 'team leader', 'district manager': 'district manager', 'senior accounting manager': 'senior accounting manager', 'vice president emea': 'vice president emea', 'bill and tariff audit operational support': 'bill and tariff audit operational support', 'senior researcher': 'senior researcher', 'team mgr-workforce management': 'team mgr-workforce management', 'co-founder and chief technology officer': 'co-founder and chief technology officer', 'founder': 'founder', 'managing director , australia new zealand': 'managing director , australia new zealand', 'vice president shared support services': 'vice president shared support services', 'mobile commerce': 'mobile commerce', 'senior partner': 'senior partner', 'chief marketing officer': 'chief marketing officer', 'founder and managing director': 'founder and managing director', 'purchasing materials manager': 'purchasing materials manager', 'team lead, senior software engineer': 'team lead, senior software engineer', 'technical officer': 'technical officer', 'quality manager': 'quality manager', 'co-chief executive officer': 'co-chief executive officer', 'founder and president': 'founder and president', 'onsite system specialist': 'onsite system specialist', 'director, customer service and inside sales; process technologies division': 'director, customer service and inside sales; process technologies division', 'service technician': 'service technician', 'administrateur système and system administrator': 'system administrator and system administrator', 'business development specialist': 'business development specialist', 'product owner - ecom and omnichannel': 'product owner - ecom and omnichannel', 'technical specialist': 'technical specialist', 'records improvement clerk': 'records improvement clerk', 'office manager': 'office manager', 'personal assistant to executive vice president consumer business': 'personal assistant to executive vice president consumer business', 'country manager': 'country manager', 'vice president sales strategy pmi': 'vice president sales strategy pmi', 'productmanager television @ kpn wholesale': 'product manager television @ kpn wholesale', 'senior operator - cactus lake': 'senior operator - cactus lake', 'key account manager': 'key account manager', 'ps partner': 'ps partner', 'administrative assistant': 'administrative assistant', 'litigation paralegal': 'litigation paralegal', 'business freedom': 'business freedom', 'specialist i': 'specialist i', 'director of human capital': 'director of human capital', 'quality assurance analyst': 'quality assurance analyst', 'commercial account manager': 'commercial account manager', 'director, international tax consulting': 'director, international tax consulting', 'president and scientific director': 'president and scientific director', 'associate broker': 'associate broker', 'contributor': 'contributor', 'senior technical specialist': 'senior technical specialist', 'technical director, water and urban development, hong kong': 'technical director, water and urban development, hong kong', 'systems analyst': 'systems analyst', 'marketing director': 'marketing director', 'conseillère à la clientèle': 'customer advisor', 'senior partner and managing director': 'senior partner and managing director', 'assistant to vice president and dean of admissions': 'assistant to vice president and dean of admissions', 'senior ffm2 analyst': 'senior ffm2 analyst', 'publicidad y marketing- programación': 'advertising and marketing-programming', 'search manager': 'search manager', 'director of active optics': 'director of active optics', 'planner senior materials': 'planner senior materials', 'marketing coordinator': 'marketing coordinator', 'academic co-chair': 'academic co-chair', 'field applications engineer': 'field applications engineer', 'test engineer': 'test engineer', 'sales floor representative': 'sales floor representative', 'director and team lead - global regulatory compliance': 'director and team lead - global regulatory compliance', 'managing director thule s.p.a. - president bu snow chain': 'managing director thule s.p.a. - president bu snow chain', 'staff process engineer': 'staff process engineer', 'manager, test engineering': 'manager, test engineering', 'senior s and w engineer': 'senior s and w engineer', 'training specialist': 'training specialist', '(algrorithm group) research scientist': '(algorithm group) research scientist', 'business development manager - apac': 'business development manager - apac', 'principal scientist': 'principal scientist', 'pfa and material cost management': 'pfa and material cost management', 'buyer - direct purchasing': 'buyer - direct purchasing', 'application engineer 5': 'application engineer 5', 'senior human resources leader': 'senior human resources leader', 'engineer': 'engineer', 'rc-us em lp pm-sys map': 'rc-us em lp pm-sys map', 'engineering director': 'engineering director', 'estimator': 'estimator', 'technician ii': 'technician ii', 'director of materials': 'director of materials', 'financial client executive': 'financial client executive', 'vice president for latin america': 'vice president for latin america', 'entertainer': 'entertainer', 'tech yahoo, software development engineer': 'tech yahoo, software development engineer', 'microsoft azure solution programmer': 'microsoft azure solution programmer', 'technicien informatique': 'IT Technician', 'enterprise solutions manager': 'enterprise solutions manager', 'information technology and information systems manager': 'information technology and information systems manager', 'senior test lead': 'senior test lead', 'territory sales representative': 'territory sales representative', 'business development executive': 'business development executive', 'senior director, mobile strategy': 'senior director, mobile strategy', 'sales representative': 'sales representative', 'senior outbound account executive': 'senior outbound account executive', 'senior administrator office 365': 'senior administrator office 365', 'performance improvement manager, manufacturing and supply chain': 'performance improvement manager, manufacturing and supply chain', 'product manager': 'product manager', 'territorry manager': 'territory manager', 'senior mechanical design': 'senior mechanical design', 'accounts receivable associate': 'accounts receivable associate', 'interstate planner': 'interstate planner', 'network analyst': 'network analyst', 'client support': 'client support', 'service delivery manager': 'service delivery manager', 'tn1x mtbf and perf.': 'tn1x mtbf and perf.', 'programmer': 'programmer', '21c and btw release manager - lead': '21c and btw release manager - lead', 'business customer relations agent': 'business customer relations agent', 'locomotive conductor': 'locomotive conductor', 'executive assistant': 'executive assistant', 'bank officer , assistant branch manager': 'bank officer , assistant branch manager', 'national account manager': 'national account manager', 'senior staff engineer': 'senior staff engineer', 'research assistant': 'research assistant', 'senior manager ( aerospace division )': 'senior manager ( aerospace division )', 'sales agent': 'sales agent', 'pharmacist': 'pharmacist', 'learning technologies manager': 'learning technologies manager', 'senior retail finance marketing specialist and project leader': 'senior retail finance marketing specialist and project leader', 'mechanical engineer': 'mechanical engineer', 'district manager speci': 'district manager special', 'senior development scientist': 'senior development scientist', 'managing partner': 'managing partner', 'regional account manager': 'regional account manager', 'ivr engineer': 'ivr engineer', 'manager, sales programs': 'manager, sales programs', 'corporate account manager': 'corporate account manager', 'health insurance broker': 'health insurance broker', 'director of business development': 'director of business development', 'mayor': 'mayor', 'sales and marketing': 'sales and marketing', 'sales associate': 'sales associate', 'marketing manager': 'marketing manager', 'member of the advisory board and general manager': 'member of the advisory board and general manager', 'client support supervisor': 'client support supervisor', 'senior information manager': 'senior information manager', 'supervisor': 'supervisor', 'quality assurance manager': 'quality assurance manager', 'quantitative engineering intern': 'quantitative engineering intern', 'customer service manager': 'customer service manager', 'category manager': 'category manager', 'administration supervisor': 'administration supervisor', 'owner and founder': 'owner and founder', 'director, business development': 'director, business development', 'insurance accounting team': 'insurance accounting team', 'incident manager': 'incident manager', 'technical manager hispanic latin america': 'technical manager hispanic latin america', 'engineer.network consulting': 'engineer.network consulting', 'senior manager, consulting': 'senior manager, consulting', 'regional sales manager - public sector - digital experience specialist': 'regional sales manager - public sector - digital experience specialist', 'programador java': 'java programmer', 'analyst': 'analyst', 'programmer analyst': 'programmer analyst', 'surveyor': 'surveyor', 'partnership specialist': 'partnership specialist', 'senior manager public relations': 'senior manager public relations', '3g+ and lte system test manager': '3g+ and lte system test manager', 'office manager, hong kong': 'office manager, hong kong', 'designer': 'designer', 'director of delivery services   senior consultant': 'director of delivery services   senior consultant', 'client service specialist': 'client service specialist', 'human resources': 'human resources', 'energy consultant': 'energy consultant', 'manager - laser scanning unit development': 'manager - laser scanning unit development', 'director, application development': 'director, application development', 'customer service team': 'customer service team', 'transaction manager': 'transaction manager', 'director of event technology': 'director of event technology', 'product development unit manager': 'product development unit manager', 'audience development manager': 'audience development manager', 'company founder': 'company founder', 'service desk manager': 'service desk manager', 'npi program manager': 'npi program manager', 'senior manager': 'senior manager', 'client care specialist': 'client care specialist', 'computational biology group leader': 'computational biology group leader', 'resource manager': 'resource manager', 'manager - projects': 'manager - projects', 'adjointe administrative': 'administrative assistant', 'manager, marketing': 'manager, marketing', 'talent aquisition manager': 'talent acquisition manager', 'plant controller': 'plant controller', 'resource development manager': 'resource development manager', 'information technology development manager - corporate systems': 'information technology development manager - corporate systems', 'maintenance manager': 'maintenance manager', 'manager of the block office': 'manager of the block office', 'manufacturing and environmental services executive': 'manufacturing and environmental services executive', 'business broker and marketing director': 'business broker and marketing director', 'director, canadian taxation': 'director, canadian taxation', 'software engineer': 'software engineer', 'venue general manager edmonton': 'venue general manager edmonton', 'manager , regulatory affairs and compliance': 'manager , regulatory affairs and compliance', 'vice president human resources': 'vice president human resources', 'desarrolador web (front-end) independiente': 'freelance web developer (front-end)', 'consulting partner, business improvement consulting and training': 'consulting partner, business improvement consulting and training', 'distribution group': 'distribution group', 'order manager': 'order manager', 'inventory analyst - engineering logistics': 'inventory analyst - engineering logistics', 'cse': 'cse', 'trading division': 'trading division', 'property developer': 'property developer', 'reception': 'reception', 'supervisor work equipment': 'supervisor work equipment', 'application developer and database administrator': 'application developer and database administrator', 'senior domain architect bits': 'senior domain architect bits', 'buyer and order administrator': 'buyer and order administrator', 'operations supervisor': 'operations supervisor', 'operations coordinator': 'operations coordinator', 'channel development manager': 'channel development manager', 'electronic design consultant': 'electronic design consultant', 'config technician': 'config technician', 'marketing project coordinator': 'marketing project coordinator', \"responsable d'agence junior\": 'junior agency manager', 'procurement manager': 'procurement manager', 'sales manager': 'sales manager', 'sales director - emea': 'sales director - emea', 'operations clerk': 'operations clerk', 'business development': 'business development', 'cutover manager - wams project': 'cutover manager - wams project', 'vice president , clinical development': 'vice president , clinical development', 'manager--qa and qc and ra': 'manager--qa and qc and ra', 'sales coordinator': 'sales coordinator', 'support engineer': 'support engineer', 'chief electrical inspector , codes and standards section': 'chief electrical inspector , codes and standards section', 'head of marketing': 'head of marketing', 'operaio': 'worker', 'worldpay i procurement category manager': 'worldpay i procurement category manager', 'senior director, product management   product marketing   product development': 'senior director, product management   product marketing   product development', 'client services agent - strata master': 'client services agent - strata master', 'logistic and companyorganisation': 'logistic and company organisation', 'senior analyst fp&a': 'senior analyst fp&a', 'customer operations specialist': 'customer operations specialist', 'data analytics officer': 'data analytics officer', 'life and love coach': 'life and love coach', 'professional sales representative': 'professional sales representative', 'vice president of engineering': 'vice president of engineering', 'office manager and remote coordinator': 'office manager and remote coordinator', 'sales director': 'sales director', 'information technology project manager': 'information technology project manager', 'ed, technology ind development': 'ed, technology ind development', 'senior manager, audit': 'senior manager, audit', 'vice president latin america': 'vice president latin america', 'account manager horeca': 'account manager horeca', 'head of sales': 'head of sales', 'chargée de recrutement': 'responsible for recruitment', 'executive assistant and office manager': 'executive assistant and office manager', 'senior network solution consultant': 'senior network solution consultant', 'human resources manager': 'human resources manager', 'uk facilities and services manager': 'uk facilities and services manager', 'unemployed': 'unemployed', 'finance specialist': 'finance specialist', 'director, platform and technology strategy . (sony distinguished engineer)': 'director, platform and technology strategy . (sony distinguished engineer)', 'acquisitions coordinator': 'acquisitions coordinator', 'firstline technical support engineer': 'firstline technical support engineer', 'senior application developer': 'senior application developer', 'accounts payable supervisor': 'accounts payable supervisor', 'chief operating officer - commercial capabilities and customer experience - lilly canada': 'chief operating officer - commercial capabilities and customer experience - lilly canada', 'chemist': 'chemist', 'fiber consultant': 'fiber consultant', 'import manager': 'import manager', 'associée, innocuité des médicaments': 'associated, drug safety', 'project coordinator': 'project coordinator', 'regional manager': 'regional manager', 'client manager': 'client manager', 'president (contract services)': 'president (contract services)', 'contrôleure': 'controller', 'writer , game developer': 'writer , game developer', 'planning manager': 'planning manager', 'north america human resources': 'north america human resources', 'store manager': 'store manager', 'clinical studies distribution specialist': 'clinical studies distribution specialist', 'management accounting - eu operational reporting': 'management accounting - eu operational reporting', 'associate director, clinical research': 'associate director, clinical research', 'international research manager': 'international research manager', 'desktop anaylst and information technology purchasing': 'desktop analyst and information technology purchasing', 'engineer 4 - product specialist': 'engineer 4 - product specialist', 'finance coordinator 4': 'finance coordinator 4', 'senior director information technology strategy and architecture': 'senior director information technology strategy and architecture', 'senior application engineer': 'senior application engineer', 'project manager and system architect , business line car entertainment solutions': 'project manager and system architect , business line car entertainment solutions', 'design engineer - valves': 'design engineer - valves', 'operator pac 20 and customer service center siemens': 'operator pac 20 and customer service center siemens', 'consultancy services manager - australasia': 'consultancy services manager - australasia', 'systems engineer': 'systems engineer', 'account manager omantel': 'account manager omantel', 'installation manager': 'installation manager', 'assistant marketing manager - flyer production': 'assistant marketing manager - flyer production', 'project leader': 'project leader', 'director - investment banking': 'director - investment banking', 'accounting clerk': 'accounting clerk', 'credit specialist': 'credit specialist', 'graphic designer': 'graphic designer', 'artist': 'artist', 'directrice adjointe - fiscalit?': 'deputy director - tax?', 'investment banking': 'investment banking', 'senior accoutant': 'senior accountant', 'clinical lead': 'clinical lead', 'chief financial officer and general manager': 'chief financial officer and general manager', 'chartered accountant': 'chartered accountant', 'manager central  service': 'manager central  service', 'opératrice de traitement de texte': 'word processor', 'senior case manager': 'senior case manager', 'director of fashion and beauty': 'director of fashion and beauty', 'chairman of trustees': 'chairman of trustees', 'présidente et conceptrice-rédactrice': 'president and copywriter', 'facilities , safety and security technician': 'facilities , safety and security technician', 'supervisory board member': 'supervisory board member', 'advisor': 'advisor', 'conseillère en recrutement ti and acquisition de talents': 'ti recruitment and talent acquisition consultant', 'junior engineer': 'junior engineer', 'insurance manager': 'insurance manager', 'manager of economic development': 'manager of economic development', 'tax research and training specialist': 'tax research and training specialist', 'chairman': 'chairman', 'accounts receivable clerk': 'accounts receivable clerk', 'director, web and digital communications': 'director, web and digital communications', 'principal engineer': 'principal engineer', 'procurement': 'procurement', 'porftfolio manager': 'portfolio manager', 'consulting engineers': 'consulting engineers', 'senior analyst, financial information management': 'senior analyst, financial information management', 'administration manager': 'administration manager', 'product buyer': 'product buyer', 'third line infrastructure support': 'third line infrastructure support', 'program manager.project and program management': 'program manager.project and program management', 'marketing internship': 'marketing internship', 'adjointe administrative en litige': 'administrative litigation assistant', 'senior network engineer': 'senior network engineer', 'producer': 'producer', 'service support specialist': 'service support specialist', 'noise specialist': 'noise specialist', 'system support technician': 'system support technician', 'map cataloging specialist': 'map cataloging specialist', 'sales director - mea region': 'sales director - mea region', 'head of training': 'head of training', 'coded welder': 'coded welder', 'assistant manager': 'assistant manager', 'senior business analyst': 'senior business analyst', 'technical instructor': 'technical instructor', 'telco sales': 'telco sales', 'work broker - (ec)': 'work broker - (ec)', 'consultant': 'consultant', 'procurement and strategic agreements': 'procurement and strategic agreements', 'senior account manager': 'senior account manager', 'agent': 'agent', 'plant clerk': 'plant clerk', 'inventory control technician': 'inventory control technician', 'regulatory analyst': 'regulatory analyst', 'finance director': 'finance director', 'mechanical manager': 'mechanical manager', 'territory sales manager': 'territory sales manager', 'financial conduct authority': 'financial conduct authority', 'support, programmes (mtl)': 'support, programs (mtl)', 'engineering department - sales and service': 'engineering department - sales and service', 'quality technician': 'quality technician', 'production employee': 'production employee', 'directeur de compte services des marchés agricoles et commerciaux': 'account manager for agricultural and commercial markets', 'information technology - operations manager': 'information technology - operations manager', 'field technician': 'field technician', 'financial analyst': 'financial analyst', 'business development representative': 'business development representative', 'area sales manager': 'area sales manager', 'safety and loss prevention advisor': 'safety and loss prevention advisor', 'sales administration': 'sales administration', 'education and entertainment writing': 'education and entertainment writing', 'customer service': 'customer service', 'director , human resources': 'director , human resources', 'leading online marketplace lender for property lending': 'leading online marketplace lender for property lending', 'surface land administrator': 'surface land administrator', 'sales and marketing manager': 'sales and marketing manager', 'powerchart and pharmnet consultant': 'powerchart and pharmnet consultant', 'integrated systems specialist': 'integrated systems specialist', 'backstock associate': 'backstock associate', 'principal': 'principal', 'research and development design engineer': 'research and development design engineer', 'pma sales representative': 'pma sales representative', 'senior reliability engineer, commercial aircraft department': 'senior reliability engineer, commercial aircraft department', 'key account manager - ireland': 'key account manager - ireland', 'warehouse coordinator': 'warehouse coordinator', 'intern': 'intern', 'ministry of government services': 'ministry of government services', 'technical architect': 'technical architect', 'regional associate': 'regional associate', 'senior designer (civil)': 'senior designer (civil)', 'media sales adviser': 'media sales adviser', 'event and communication junior manager': 'event and communication junior manager', 'acting sales manager': 'acting sales manager', 'area administrator': 'area administrator', 'voice expert': 'voice expert', 'marketing and communication specialist': 'marketing and communication specialist', 'director of projects and alliances': 'director of projects and alliances', 'sales director mexico': 'sales director mexico', 'district financial manager': 'district financial manager', 'dispatcher': 'dispatcher', 'capital works financial coordinator, tourism and culture division': 'capital works financial coordinator, tourism and culture division', 'indirect tax manager': 'indirect tax manager', 'divisional manager': 'divisional manager', 'manager, contact centre': 'manager, contact centre', 'national customer services manager': 'national customer services manager', 'provincial manager, communications': 'provincial manager, communications', 'territory manager': 'territory manager', 'analytics manager': 'analytics manager', 'national sales manager': 'national sales manager', 'dir-hotel operations': 'dir-hotel operations', 'head of cruise and ferry sales': 'head of cruise and ferry sales', 'rental sales agent': 'rental sales agent', 'manager - finance division - midlands': 'manager - finance division - midlands', 'planning supervisor': 'planning supervisor', 'transfer pricing manager': 'transfer pricing manager', 'wcm training and communication manager': 'wcm training and communication manager', 'project manager - information technology': 'project manager - information technology', 'quality manager post market surveillance': 'quality manager post market surveillance', 'senior credit solutions manager': 'senior credit solutions manager', 'brazilian manager': 'brazilian manager', 'financial services manager': 'financial services manager', 'aat and bmo bank of montreal': 'aat and bmo bank of montreal', 'account director': 'account director', 'junior compliance analyst': 'junior compliance analyst', 'cast trainer': 'cast trainer', 'sap human resources development': 'sap human resources development', 'manager of security services': 'manager of security services', 'regional director of information technology': 'regional director of information technology', 'customer service representative': 'customer service representative', 'owner and aesthetics': 'owner and aesthetics', 'operations and finance manager': 'operations and finance manager', 'senior sales manager': 'senior sales manager', 'associate european medical lead': 'associate european medical lead', 'bar manager': 'bar manager', 'psw2': 'psw2', 'lpn': 'lpn', 'national special events manager': 'national special events manager', 'rec worker': 'rec worker', 'implementation project manager': 'implementation project manager', 'member': 'member', 'manager ( fund accounting services )': 'manager ( fund accounting services )', 'general manager operations': 'general manager operations', 'principal, consulting and solutions management': 'principal, consulting and solutions management', 'corporate manager - financial services': 'corporate manager - financial services', 'backshop': 'backshop', 'graphic and web designer': 'graphic and web designer', 'technical supervisor': 'technical supervisor', 'tax services advisor': 'tax services advisor', 'senior director research plasma proteins': 'senior director research plasma proteins', 'senior account executive': 'senior account executive', 'human resources coordinator': 'human resources coordinator', 'consultor': 'consultant', 'rental agent': 'rental agent', 'training and systems manager': 'training and systems manager', 'quality improvement and patient safety': 'quality improvement and patient safety', 'enactus project manager': 'enactus project manager', 'customer service and support': 'customer service and support', 'field and project engineer': 'field and project engineer', 'business manager': 'business manager', 'base business capture and tender': 'base business capture and tender', 'members': 'members', 'scientist': 'scientist', 'branch administrator': 'branch administrator', 'telesales and customer care team manager': 'telesales and customer care team manager', 'customer service field representative': 'customer service field representative', 'professional puppeteer': 'professional puppeteer', 'services engineer': 'services engineer', 'head of the team': 'head of the team', 'director, health and safety': 'director, health and safety', 'engineering and applied science trainee': 'engineering and applied science trainee', 'executive assistant to chief executive officer': 'executive assistant to chief executive officer', 'projects coordinator': 'projects coordinator', 'policy and research consultant': 'policy and research consultant', 'director provincial operations': 'director provincial operations', 'content manager': 'content manager', 'global marketing director , family nutrition': 'global marketing director , family nutrition', 'beauty editor': 'beauty editor', 'traductrice-réviseure': 'translator-reviser', 'specialist cruise concierge': 'specialist cruise concierge', 'team leader , crisis services': 'team leader , crisis services', 'site manager (bunnings)': 'site manager (bunnings)', 'business development coordinator': 'business development coordinator', 'administrative officer': 'administrative officer', 'bts and transmission technician': 'bts and transmission technician', 'senior executive': 'senior executive', 'group deputy legal and development director': 'group deputy legal and development director', 'touring officer': 'touring officer', 'project management consultancy': 'project management consultancy', 'co-creator, the worldwide adventures of rohini molini': 'co-creator, the worldwide adventures of rohini molini', 'infrastructure planning engineer': 'infrastructure planning engineer', 'tax manager': 'tax manager', 'graduate clinical research associate': 'graduate clinical research associate', 'premier customer service agent': 'premier customer service agent', 'el returns operative - early': 'el returns operative - early', 'controller management': 'controller management', 'senior information technology operations engineer': 'senior information technology operations engineer', 'radio show host': 'radio show host', 'digital producer': 'digital producer', 'researcher': 'researcher', 'controls and calibration team lead': 'controls and calibration team lead', 'group managing partner': 'group managing partner', 'general accountant': 'general accountant', 'manager information systems - atv': 'manager information systems - atv', 'gep chief marketing  offi and lead chn': 'gep chief marketing  offi and lead chn', 'public relations customer service profe': 'public relations customer service profe', 'account manager personal care': 'account manager personal care', 'media relations manager': 'media relations manager', 'fp&a consultant': 'fp&a consultant', 'district chief': 'district chief', 'head of technical projects': 'head of technical projects', 'assistante': 'assistant', 'strategic partnerships': 'strategic partnerships', 'division director': 'division director', 'meeting manager': 'meeting manager', 'manager, classroom present technol': 'manager, classroom present technol', 'senior manager technology operations': 'senior manager technology operations', 'computer helpdesk manager': 'computer helpdesk manager', 'manager of web and media systems': 'manager of web and media systems', 'ipsas change manager': 'ipsas change manager', 'manager- transportation and parking services': 'manager- transportation and parking services', 'cafeteria manager': 'cafeteria manager', 'customer service attendant': 'customer service attendant', 'facilities manager': 'facilities manager', 'health and wellness director': 'health and wellness director', 'program manager, supervising social worker': 'program manager, supervising social worker', 'medium voltage - marketing': 'medium voltage - marketing', 'business performance manager': 'business performance manager', 'systems consultant': 'systems consultant', 'campus recruiter, global talent acquisition': 'campus recruiter, global talent acquisition', 'safety care associate and safety coach': 'safety care associate and safety coach', 'director of administration': 'director of administration', 'employee': 'employee', 'regional consultant': 'regional consultant', 'assistant event coordinator': 'assistant event coordinator', 'experience consultant': 'experience consultant', 'executive administrative assistant': 'executive administrative assistant', 'assistant branch manager': 'assistant branch manager', 'assistant facility manager': 'assistant facility manager', 'local marketing and design consultant': 'local marketing and design consultant', 'assistant store manager': 'assistant store manager', 'first assistant manager': 'first assistant manager', 'legal assistant': 'legal assistant', 'administrative assistant and information technology coordinator': 'administrative assistant and information technology coordinator', 'position in recruitment': 'position in recruitment', 'commercial assistant property manager': 'commercial assistant property manager', 'trans world sport, assistant producer': 'trans world sport, assistant producer', 'assistant market manager': 'assistant market manager', 'consultant pré-vente arcsight, tippingpoint, fortify et atalla.': 'arcsight, tippingpoint, fortify and atalla pre-sales consultant.', 'financial assistant': 'financial assistant', 'assistant brand manager': 'assistant brand manager', 'associate professor , director , preventive cardiology program , program director , cardiology fellowship': 'associate professor , director , preventive cardiology program , program director , cardiology fellowship', 'assistant buyer': 'assistant buyer', 'assistant director, research division': 'assistant director, research division', 'executive director': 'executive director', 'team manager': 'team manager', 'instructor': 'instructor', 'financial assistant - seft': 'financial assistant - seft', 'school bus driver': 'school bus driver', 'finance director uki': 'finance director uki', 'team lead front office development': 'team lead front office development', 'director, corporate audit': 'director, corporate audit', 'clinical psychologist': 'clinical psychologist', 'senior program manager, business intelligence': 'senior program manager, business intelligence', 'associate': 'associate', 'team leader - senior outreach counseling': 'team leader - senior outreach counseling', 'senior administrator': 'senior administrator', 'financial adviser': 'financial adviser', 'application engineer': 'application engineer', 'finance analyst': 'finance analyst', 'merchandiser': 'merchandiser', 'project development director and financing specialist': 'project development director and financing specialist', 'commercial engineer': 'commercial engineer', 'print production executive': 'print production executive', 'associate dean': 'associate dean', 'research - event driven strategies': 'research - event driven strategies', 'events coordinator': 'events coordinator', 'associate, asset management': 'associate, asset management', 'retail representative': 'retail representative', 'director of events, rebeccas cafe northeastern university': 'director of events, rebeccas cafe northeastern university', 'solutions» director': 'solutions» director', 'i financial advisor': 'i financial advisor', 'orchestra staff manager': 'orchestra staff manager', 'operations officer': 'operations officer', 'member of the poetry board': 'member of the poetry board', 'directeur de comptes, marchés commercial et industriel': 'account manager, commercial and industrial markets', 'associate director': 'associate director', 'clinical intern': 'clinical intern', 'customer care associate': 'customer care associate', 'mechanic': 'mechanic', 'program director': 'program director', \"managing editor, 'children's bureau express'\": \"managing editor, 'children's bureau express'\", 'site administrator - pippingarra ane plant': 'site administrator - pippingarra ane plant', 'bu pharma controlling': 'bu pharma controlling', 'senior print production executive': 'senior print production executive', 'real estate sales representative': 'real estate sales representative', 'registered teacher': 'registered teacher', 'financial services representative': 'financial services representative', 'account executive - business insurance': 'account executive - business insurance', 'commercial community analyst': 'commercial community analyst', 'contact group chair': 'contact group chair', 'digital content administrator': 'digital content administrator', 'head of technical services': 'head of technical services', 'head of human resources for rc': 'head of human resources for rc', 'service advisor': 'service advisor', 'the buyer': 'the buyer', 'demand planning analyst': 'demand planning analyst', 'shuttle driver': 'shuttle driver', 'senior fund accountant': 'senior fund accountant', 'human resources information systems administrator': 'human resources information systems administrator', 'sales office manager': 'sales office manager', 'county library director': 'county library director', 'injury adjuster': 'injury adjuster', 'learning and development manager': 'learning and development manager', 'social community insider [external]': 'social community insider [external]', 'director , information technology': 'director , information technology', 'choreographer': 'choreographer', 'solutions and information technology products': 'solutions and information technology products', 'financial services administrator': 'financial services administrator', 'teacher': 'teacher', 'strategic rm purchasing manager': 'strategic rm purchasing manager', 'account director and partner': 'account director and partner', 'vice president regional asset management': 'vice president regional asset management', 'investment analyst': 'investment analyst', 'client advisor': 'client advisor', 'senior digital marketing manager': 'senior digital marketing manager', 'educator': 'educator', 'artwork production coordinator': 'artwork production coordinator', 'venue and  host manager for the global party 2013': 'venue and  host manager for the global party 2013', 'business analyst': 'business analyst', 'information systems specialist': 'information systems specialist', 'underwriting specialist': 'underwriting specialist', 'brand associate': 'brand associate', 'manager competency and training group technical resources unit technical division': 'manager competency and training group technical resources unit technical division', 'chief architect': 'chief architect', 'sales executive': 'sales executive', 'senior accounting officer, global settlements': 'senior accounting officer, global settlements', 'computing and ict programme manager': 'computing and ict programme manager', 'directeur principal conseils et vigie': 'Senior Director of Consulting and Monitoring', 'supply tech': 'supply tech', 'payroll supervisor': 'payroll supervisor', 'bus and technology delivery manager': 'bus and technology delivery manager', 'trade support': 'trade support', 'proprietor': 'proprietor', 'certified trainer and distributor': 'certified trainer and distributor', 'mortgage specialist': 'mortgage specialist', 'contracts support manager': 'contracts support manager', 'senior librarian': 'senior librarian', 'manager - equipment division': 'manager - equipment division', 'p.d.i and  detailing': 'p.d.i and  detailing', 'project coordinator - assistant project manager': 'project coordinator - assistant project manager', 'pipeline specialties assistant manager': 'pipeline specialties assistant manager', 'assistant design engineer': 'assistant design engineer', 'program coordinator for the health care support worker program': 'program coordinator for the health care support worker program', 'football administrator': 'football administrator', 'traffic surveyor': 'traffic surveyor', 'admin clerk': 'admin clerk', 'transportation coordinator': 'transportation coordinator', 'senior business and systems analyst': 'senior business and systems analyst', 'peer helper, co-operative education and career services': 'peer helper, co-operative education and career services', 'infra projects': 'infra projects', 'masters in mechanical and materials engineering(major: manufacturing)': 'masters in mechanical and materials engineering(major: manufacturing)', 'elementary secretary': 'elementary secretary', 'piping design department lead': 'piping design department lead', 'mechanical design engineer': 'mechanical design engineer', 'associate editor': 'associate editor', 'senior designer': 'senior designer', 'kitimat modernization project': 'kitimat modernization project', 'chief estimator': 'chief estimator', 'vendor management analyst': 'vendor management analyst', 'tutor': 'tutor', 'vice president of services': 'vice president of services', 'supply chain analyst - construction and facilites': 'supply chain analyst - construction and facilities', 'senior estimator': 'senior estimator', 'information technology support': 'information technology support', 'core member': 'core member', 'civil engineer-in-training': 'civil engineer-in-training', 'material handler': 'material handler', 'delegate': 'delegate', 'information technology support analyst': 'information technology support analyst', 'office adminstrator': 'office administrator', 'conseillère aux avant. sociaux': 'adviser to before. social', 'senior specialist': 'senior specialist', 'assistant coach': 'assistant coach', 'assistant general counsel': 'assistant general counsel', 'software design consultant': 'software design consultant', 'international business development manager': 'international business development manager', 'rn, admission coordinator for tanner in-patient rehab unit': 'rn, admission coordinator for tanner in-patient rehab unit', 'stagehand': 'stagehand', 'board of trustees member': 'board of trustees member', 'shipwright apprentice': 'shipwright apprentice', 'trustee': 'trustee', 'nsw and act internal sales representative': 'nsw and act internal sales representative', \"claveciniste, organiste, chef d'orchestre\": 'harpsichordist, organist, conductor', 'dance instructor': 'dance instructor', 'executive board member': 'executive board member', 'advance planning director - family service director': 'advance planning director - family service director', 'driver recruiter': 'driver recruiter', 'principal flutist': 'principal flutist', 'program and communications associate': 'program and communications associate', 'position in visitor services': 'position in visitor services', 'curator': 'curator', 'chronicler and biographer': 'chronicler and biographer', 'claims administrator': 'claims administrator', 'senior c++ engineer': 'senior c++ engineer', 'beauty consultant': 'beauty consultant', 'civil earthworks consultant': 'civil earthworks consultant', 'publications consultant': 'publications consultant', 'assistant chief': 'assistant chief', 'professor': 'professor', 'enjo consultant': 'enjo consultant', 'engineering technician civil': 'engineering technician civil', 'pharmacy analyst': 'pharmacy analyst', 'general manager safety': 'general manager safety', 'sales specialist': 'sales specialist', 'research and grants coordinator': 'research and grants coordinator', 'training superintendent': 'training superintendent', 'payroll officer': 'payroll officer', 'member of the board of trustees': 'member of the board of trustees', 'health information management specialist': 'health information management specialist', 'licensed mental health counselor': 'licensed mental health counselor', 'treasury analyst': 'treasury analyst', 'rn': 'rn', 'clinical dietitian': 'clinical dietitian', 'marketing and communications coordinator': 'marketing and communications coordinator', 'print development engineer': 'print development engineer', 'project leader - innovation': 'project leader - innovation', 'freelance teacher of the arts': 'freelance teacher of the arts', 'service manager': 'service manager', 'md': 'md', 'journalist': 'journalist', 'head of risk': 'head of risk', 'mst-sa therapist': 'mst-sa therapist', 'director of economic development programs': 'director of economic development programs', 'senior information systems technician': 'senior information systems technician', 'clinical research associate': 'clinical research associate', 'administrator': 'administrator', 'head of projects': 'head of projects', 'internal services coordinator   human resources': 'internal services coordinator   human resources', 'outreach coordinator': 'outreach coordinator', 'contract indexer': 'contract indexer', 'correspondent': 'correspondent', 'senior associate editor': 'senior associate editor', 'director of emergency services': 'director of emergency services', 'member, department of ophthalmology': 'member, department of ophthalmology', 'public relations intern': 'public relations intern', 'customer services coordinator': 'customer services coordinator', 'data processing': 'data processing', 'patient coordinator': 'patient coordinator', 'poolside bartender': 'poolside bartender', 'sales and purchase director': 'sales and purchase director', 'senior procurement advisor': 'senior procurement advisor', 'information technology administrator': 'information technology administrator', 'financial correspondent': 'financial correspondent', 'philanthropy adviser': 'philanthropy adviser', 'life coach: specialization in relationship and  parenting and success': 'life coach: specialization in relationship and  parenting and success', 'document administrator': 'document administrator', 'director africa regional office': 'director africa regional office', 'business development intern': 'business development intern', 'founder and lead facilitator': 'founder and lead facilitator', 'state manager': 'state manager', 'cpn coordinator': 'cpn coordinator', 'physician suspension specialist': 'physician suspension specialist', 'sap planning and budgeting': 'sap planning and budgeting', 'richard champion player development regional manager': 'richard champion player development regional manager', 'facilities support coordinator': 'facilities support coordinator', 'climate counselor and knox county schools': 'climate counselor and knox county schools', 'staffing coordinator': 'staffing coordinator', 'maintenance system specialist': 'maintenance system specialist', 'cnapp. software development principal cnslt.': 'cnapp. software development principal cnslt.', 'relationship manager': 'relationship manager', 'clerical associate': 'clerical associate', 'associate, real estate': 'associate, real estate', 'manager regulatory affairs cmc': 'manager regulatory affairs cmc', 'health and social affairs editor': 'health and social affairs editor', 'chief commercial officer': 'chief commercial officer', 'physics teacher': 'physics teacher', 'certification level ii teacher': 'certification level ii teacher', 'associate professor': 'associate professor', 'educational assistant': 'educational assistant', 'senior civil engineer - sdot major projects division': 'senior civil engineer - sdot major projects division', 'managing consultant': 'managing consultant', 'development assistant': 'development assistant', 'extension associate and dietitian': 'extension associate and dietitian', 'course mentor, general education': 'course mentor, general education', 'senior chemist': 'senior chemist', 'food supervisor.': 'food supervisor.', 'chair, olympic board': 'chair, olympic board', 'glazier': 'glazier', 'postdoctoral research associate': 'postdoctoral research associate', 'undergraduate economic researcher': 'undergraduate economic researcher', 'plant engineering mechanical technician': 'plant engineering mechanical technician', 'facilities, electrician': 'facilities, electrician', 'adjunct faculty': 'adjunct faculty', 'medical or dental resident': 'medical or dental resident', 'resident physician, department of anesthesia and critical care': 'resident physician, department of anesthesia and critical care', 'career advisor - academic advising': 'career advisor - academic advising', 'outreach and instructional librarian': 'outreach and instructional librarian', 'acne doctors - neutrogena skinid™ dermatologist': 'acne doctors - neutrogena skinid™ dermatologist', 'director of gender studies': 'director of gender studies', 'english division chair': 'english division chair', 'mba candidate, 2009': 'mba candidate, 2009', 'director of advancement operat': 'director of advancement operat', \"superintendent's secretary\": \"superintendent's secretary\", 'doctor': 'doctor', 'director, center for environmental studies': 'director, center for environmental studies', 'magician': 'magician', 'construction engineering department': 'construction engineering department', 'faculty emeritus': 'faculty emeritus', 'associate faculty': 'associate faculty', 'director of admissions': 'director of admissions', 'sharepoint developer': 'sharepoint developer', 'street performer': 'street performer', 'house call tutor': 'house call tutor', 'counselor': 'counselor', 'alternative assigmt - department': 'alternative assigmt - department', 'founder and designer and creator': 'founder and designer and creator', 'public relations major': 'public relations major', 'congressional intern': 'congressional intern', 'title i aide': 'title i aide', 'freshman member of the mountaineers': 'freshman member of the mountaineers', 'leasing consulant': 'leasing consulant', 'director of nursing': 'director of nursing', 'adm sup office': 'adm sup office', 'senior account clerk': 'senior account clerk', 'research specialist ii': 'research specialist ii', 'athletic department: game operations': 'athletic department: game operations', 'director of paralegal programs': 'director of paralegal programs', 'speech and language therapist': 'speech and language therapist', 'supply chain management': 'supply chain management', 'recreation supervisor': 'recreation supervisor', 'director, advising and outreach': 'director, advising and outreach', 'founding member': 'founding member', 'helpdesk technician': 'helpdesk technician', 'dean - technical education': 'dean - technical education', \"master's candidate\": \"master's candidate\", 'research associate': 'research associate', 'librarian , head of archives and cataloging division': 'librarian , head of archives and cataloging division', 'program technician ii': 'program technician ii', 'patient services coordinator': 'patient services coordinator', 'parking services director': 'parking services director', 'tchr, music, elementary': 'tchr, music, elementary', 'supervisor, facilites': 'supervisor, facilites', 'accountant': 'accountant', 'admissions counselor  admissions': 'admissions counselor  admissions', 'nephrologist': 'nephrologist', 'lab tech': 'lab tech', 'controller': 'controller', 'member, santa clara sporting 95b green team': 'member, santa clara sporting 95b green team', 'human resources generalist': 'human resources generalist', 'math solutions consultant': 'math solutions consultant', 'credentialing analyst': 'credentialing analyst', 'app sys and analyst progr senior': 'app sys and analyst progr senior', 'patient services representative ii': 'patient services representative ii', 'special education aide': 'special education aide', 'director of facilities': 'director of facilities', 'executive director of administrative information services, office of information technology': 'executive director of administrative information services, office of information technology', 'facilty-hvac': 'facilty-hvac', 'director of library services and learning resources': 'director of library services and learning resources', 'fiscal analyst 2': 'fiscal analyst 2', 'information technology analyst, applications lead': 'information technology analyst, applications lead', 'editorial associate , acquisitions': 'editorial associate , acquisitions', 'era technical specialist': 'era technical specialist', 'orientation lead and educator': 'orientation lead and educator', 'custodian': 'custodian', 'information technology services marketing specialist': 'information technology services marketing specialist', 'graduate medical resident v': 'graduate medical resident v', 'sustainable design build program coordinator': 'sustainable design build program coordinator', 'dean of arts and sciences': 'dean of arts and sciences', 'associate transportation planner': 'associate transportation planner', 'talent acquisition specialist ii': 'talent acquisition specialist ii', 'office technician i (typing)': 'office technician i (typing)', 'too many to list!': 'too many to list!', 'webmaster': 'webmaster', 'quality assurance engineer': 'quality assurance engineer', 'employee-adm': 'employee-adm', 'staff and council member': 'staff and council member', 'department of philosophy': 'department of philosophy', 'head of the bassoon department': 'head of the bassoon department', 'office of academic affairs': 'office of academic affairs', 'human resources specialist, human resource info systems': 'human resources specialist, human resource info systems', 'health physicist': 'health physicist', 'director, mathematics': 'director, mathematics', 'news editor, the chicago maroon': 'news editor, the chicago maroon', 'loan officer': 'loan officer', 'research scientist': 'research scientist', 'director of donor relations and communications': 'director of donor relations and communications', 'eop academic counselor': 'eop academic counselor', 'director of aviation program': 'director of aviation program', 'clinical coordinator, faculty - practical nursing program': 'clinical coordinator, faculty - practical nursing program', 'director of curriculum and instruction': 'director of curriculum and instruction', 'interim athletic director and swa': 'interim athletic director and swa', 'ppts': 'ppts', 'associate in ..': 'associate in ..', 'clinical fellow of neonatology': 'clinical fellow of neonatology', 'career counselor': 'career counselor', 'international admissions administrator and dso': 'international admissions administrator and dso', 'first shift building services supervisor': 'first shift building services supervisor', 'clinical psychology': 'clinical psychology', 'curriculum specialist': 'curriculum specialist', 'communication and journalism': 'communication and journalism', 'purchase pilot , ifr pilot': 'purchase pilot , ifr pilot', 'faculty': 'faculty', 'graduate programs coordinator- charles e. schdmit college of medicine': 'graduate programs coordinator- charles e. schdmit college of medicine', 'lecturer': 'lecturer', 'secretary': 'secretary', 'financial aid counselor': 'financial aid counselor', 'education coordinator': 'education coordinator', 'industry': 'industry', 'volunteer': 'volunteer', 'adjunct faculty - accounting and finance': 'adjunct faculty - accounting and finance', 'good friday service': 'good friday service', 'pathology , microbiology and immunology': 'pathology , microbiology and immunology', 'bookkeeper': 'bookkeeper', 'representative': 'representative', 'executive director of campus planning': 'executive director of campus planning', 'associate dean for judicial affairs': 'associate dean for judicial affairs', 'retiree': 'retiree', 'communications coordinator': 'communications coordinator', 'art department chair': 'art department chair', 'rn-clinical pd(12)lvl3 (uh)-union': 'rn-clinical pd(12)lvl3 (uh)-union', 'spt ii': 'spt ii', 'director of athletics': 'director of athletics', \"director, speakers' bureau\": \"director, speakers' bureau\", 'manager, university events': 'manager, university events', 'dear recruiter': 'dear recruiter', 'director of residential programs': 'director of residential programs', 'off-premise catering manager': 'off-premise catering manager', 'south asia cluster water utility manager': 'south asia cluster water utility manager', 'officer, event management': 'officer, event management', 'major': 'major', 'gis analyst': 'gis analyst', 'advisory board member': 'advisory board member', 'vice chair, board of trustees': 'vice chair, board of trustees', 'supervisor of horticulture': 'supervisor of horticulture', 'executive recruitment consultant': 'executive recruitment consultant', 'senior recruiter': 'senior recruiter', 'recruiter': 'recruiter', 'stadf accountant': 'stadf accountant', 'director of development for research': 'director of development for research', 'adoption case aide': 'adoption case aide', 'prevention intervention specialist': 'prevention intervention specialist', 'senior insurance specialist': 'senior insurance specialist', 'senior technical recruiter': 'senior technical recruiter', 'director of studio programs': 'director of studio programs', 'payroll and pension clerk': 'payroll and pension clerk', 'lead instructor': 'lead instructor', 'pastor': 'pastor', 'senior lead technical recruiter': 'senior lead technical recruiter', 'finance and accounting recruiter': 'finance and accounting recruiter', 'lifestyle enrichment director': 'lifestyle enrichment director', 'executive recruiter': 'executive recruiter', 'quality assurance trainer': 'quality assurance trainer', 'service delivery': 'service delivery', 'mattress professional': 'mattress professional', 'audit assistant': 'audit assistant', 'sales consultant': 'sales consultant', 'claims integrity site review consultant': 'claims integrity site review consultant', 'production assistant': 'production assistant', 'smartcalcs customer service quality assistant': 'smartcalcs customer service quality assistant', 'orthopedic physician assistant': 'orthopedic physician assistant', 'loan officer assistant and mlo': 'loan officer assistant and mlo', 'mortgage consultant nmls 254135': 'mortgage consultant nmls 254135', 'managing consultant, health and productivity, employer services': 'managing consultant, health and productivity, employer services', 'lead sales assistant': 'lead sales assistant', 'back office assistant': 'back office assistant', 'assistant and intern': 'assistant and intern', 'assistant technical designer': 'assistant technical designer', 'pcc': 'pcc', 'assistant merchandising store manager': 'assistant merchandising store manager', 'seo consultant': 'seo consultant', 'hgtv consultant': 'hgtv consultant', 'account assistant': 'account assistant', 'sales solution team consultant': 'sales solution team consultant', 'claims professional': 'claims professional', 'sales assistant': 'sales assistant', 'position, financial aid department': 'position, financial aid department', 'service consultant': 'service consultant', 'senior consultant': 'senior consultant', 'construction management consultant (tunneling and underground construction)': 'construction management consultant (tunneling and underground construction)', 'executive assistant , project management and construction': 'executive assistant , project management and construction', 'travel consultant': 'travel consultant', 'business development consultant': 'business development consultant', 'staffing consultant': 'staffing consultant', 'process improvement professional': 'process improvement professional', 'real estate consultant': 'real estate consultant', 'business consultant': 'business consultant', 'marketing consultant': 'marketing consultant', 'assistant controller': 'assistant controller', 'senior escrow assistant': 'senior escrow assistant', 'senior information technology consultant - cloud security': 'senior information technology consultant - cloud security', 'principals and consultant': 'principals and consultant', 'independent consultant': 'independent consultant', 'position in sales professional': 'position in sales professional', 'loan officer assistant': 'loan officer assistant', 'personal assistant': 'personal assistant', 'new member': 'new member', 'brand protection manager': 'brand protection manager', 'producer and director - refugees of the lost rainforest': 'producer and director - refugees of the lost rainforest', 'electrical engineering manager': 'electrical engineering manager', 'lead production technician': 'lead production technician', 'corporate and public banking - head of reporting': 'corporate and public banking - head of reporting', 'director of nursing and quality': 'director of nursing and quality', 'head of procurement': 'head of procurement', 'property manager': 'property manager', 'reporter': 'reporter', 'property manager ,': 'property manager ,', 'senior executive officer (indiv)': 'senior executive officer (indiv)', 'senior solicitor': 'senior solicitor', 'revenue manager': 'revenue manager', 'project engineer': 'project engineer', 'receptionist': 'receptionist', 'head of strategic risk management': 'head of strategic risk management', 'marketing executive': 'marketing executive', 'h2s safety supervisor': 'h2s safety supervisor', 'yah coordinator': 'This coordinator', 'publisher of fine books on sport': 'publisher of fine books on sport', 'current member': 'current member', 'commercial development manager': 'commercial development manager', 'chief financial officer': 'chief financial officer', 'global information technology development manager': 'global information technology development manager', 'resources coordinator': 'resources coordinator', 'parts manager': 'parts manager', 'senior associate': 'senior associate', 'accounts receivable officer': 'accounts receivable officer', 'club captain': 'club captain', 'corporate lawyer': 'corporate lawyer', 'woodley branch manager and valuer': 'woodley branch manager and valuer', 'director of sales russia and cis': 'director of sales russia and cis', 'key member of goalkeeping department': 'key member of goalkeeping department', 'executive officer': 'executive officer', 'mda category manager': 'mda category manager', 'tele marketing': 'tele marketing', 'educational psychologist': 'educational psychologist', 'fine dining server': 'fine dining server', 'head of security': 'head of security', 'admin. assistant': 'admin. assistant', 'kindergarten teacher': 'kindergarten teacher', 'math support teacher': 'math support teacher', 'technical consultant': 'technical consultant', 'lecturer, director of the center for entrepreneurship and innovation': 'lecturer, director of the center for entrepreneurship and innovation', 'teacher assisstant': 'teacher assistant', 'admin and assistant': 'admin and assistant', 'co-owner': 'co-owner', 'admin assistant': 'admin assistant', 'design consultant': 'design consultant', 'senior business consultant': 'senior business consultant', 'assistant principal': 'assistant principal', 'english language arts teacher and department head': 'english language arts teacher and department head', 'marketing and administrative assistant': 'marketing and administrative assistant', 'land planners and development consultants': 'land planners and development consultants', 'english teacher': 'english teacher', 'finance assistant': 'finance assistant', 'legal administrative assistant': 'legal administrative assistant', 'literature and english teacher': 'literature and english teacher', 'graduate assistant': 'graduate assistant', 'spanish teacher': 'spanish teacher', 'wheel consultant': 'wheel consultant', 'policy manager - customer care': 'policy manager - customer care', 'contract delivery manager': 'contract delivery manager', 'undergraduate - art and design and university transfer': 'undergraduate - art and design and university transfer', 'contracts manager': 'contracts manager', 'television news producer and presenter': 'television news producer and presenter', 'group human resources manager': 'group human resources manager', 'station manager': 'station manager', 'construction manager': 'construction manager', 'chief accountant': 'chief accountant', 'project manager, city of monterey': 'project manager, city of monterey', 'technical director': 'technical director', 'law clerk': 'law clerk', 'yoga instructor': 'yoga instructor', 'tier-3 support egineer': 'tier-3 support engineer', 'horticulture service manager': 'horticulture service manager', 'customer relationship executive': 'customer relationship executive', 'production': 'production', 'capex manager': 'capex manager', 'network support officer': 'network support officer', 'certified teacher': 'certified teacher', 'assistant chief financial officer - fiscal planning and analysis': 'assistant chief financial officer - fiscal planning and analysis', 'cpc (certified professional coder)': 'cpc (certified professional coder)', 'nursing assistant and unit secretary': 'nursing assistant and unit secretary', 'professor of law': 'professor of law', 'assistant team leader': 'assistant team leader', 'lab assistant': 'lab assistant', 'medical assistant': 'medical assistant', 'telstra manager': 'telstra manager', 'wagyu breeding and feedlot manager': 'wagyu breeding and feedlot manager', 'national manager, agencies': 'national manager, agencies', 'school social worker': 'school social worker', 'food and beverage attendant': 'food and beverage attendant', 'cluster gfm - vic west': 'cluster gfm - vic west', 'information technology manager': 'information technology manager', 'lawyer': 'lawyer', 'event sales executive': 'event sales executive', 'manager administration': 'manager administration', 'customer service administrator': 'customer service administrator', 'deputy head of meetings': 'deputy head of meetings', 'portfolio manager': 'portfolio manager', 'sponsorship and marketing coordinator': 'sponsorship and marketing coordinator', 'national trust accommodation and conference venue': 'national trust accommodation and conference venue', 'chief information security officer': 'chief information security officer', 'paralegal and personal assistant': 'paralegal and personal assistant', 'plant engineer': 'plant engineer', 'soad': 'soad', 'education team leader': 'education team leader', 'accounts manager': 'accounts manager', 'team manager client services': 'team manager client services', 'sales manager (malaysia and thailand)': 'sales manager (malaysia and thailand)', 'school counselor': 'school counselor', 'furniture manager': 'furniture manager', 'linebackers': 'linebackers', 'development associate, donor relations': 'development associate, donor relations', 'school coordinator': 'school coordinator', 'director of catering sales': 'director of catering sales', 'divisional senior human resources generalist': 'divisional senior human resources generalist', 'assistant professor in the department of communication': 'assistant professor in the department of communication', 'instructor - art': 'instructor - art', 'police officer': 'police officer', 'head of collections': 'head of collections', 'estate agent': 'estate agent', 'cash systems coordinator': 'cash systems coordinator', 'senior hse advisor': 'senior hse advisor', 'graduate geotechnical engineer': 'graduate geotechnical engineer', 'measurement contracts and quality assurance officer': 'measurement contracts and quality assurance officer', 'sales and leasing consultant': 'sales and leasing consultant', 'payroll assistant': 'payroll assistant', 'administrative assistant - medical services and office of the physician-in-chief': 'administrative assistant - medical services and office of the physician-in-chief', 'sub teacher': 'sub teacher', 'principal consultant and actuary': 'principal consultant and actuary', 'assistant to finance director mc': 'assistant to finance director mc', 'sales consultant, ag equipment': 'sales consultant, ag equipment', 'sap human resources and payroll consultant': 'sap human resources and payroll consultant', 'kkw research': 'kkw research', 'mobility services consultant': 'mobility services consultant', 'sales engineering senior manager': 'sales engineering senior manager', 'senior medical advisor': 'senior medical advisor', 'campus steward': 'campus steward', 'head of finance': 'head of finance', 'shareholder services administrator': 'shareholder services administrator', 'group corporate business nfu mutual': 'group corporate business nfu mutual', 'internal sales': 'internal sales', 'head of sales and marketing': 'head of sales and marketing', 'construction director': 'construction director', 'head of property': 'head of property', 'head of store development': 'head of store development', 'van specialist': 'from specialist', 'managing director, managing director, managing director': 'managing director, managing director, managing director', 'senior sales executive': 'senior sales executive', 'compensation analyst associate': 'compensation analyst associate', 'global business development director': 'global business development director', 'milk strategic planning': 'milk strategic planning', 'project finance , infrastructure and ppp': 'project finance , infrastructure and ppp', 'manager, engineering': 'manager, engineering', 'florist': 'florist', 'head of benchmark and index control group analytics': 'head of benchmark and index control group analytics', 'java support': 'java support', 'chief scientist': 'chief scientist', 'regional industrial projects manager': 'regional industrial projects manager', 'head of property services': 'head of property services', 'digital artist': 'digital artist', 'weekend receptionist': 'weekend receptionist', 'supervisor regional no and ne': 'supervisor regional no and ne', 'management accountant': 'management accountant', 'us online': 'us online', 'consumer electronics technical': 'consumer electronics technical', 'senior file reviewer': 'senior file reviewer', 'global head': 'global head', 'pa': 'pa', 'country manager (portugal)': 'country manager (portugal)', 'service transition and implementation lead': 'service transition and implementation lead', 'stores officer and ta': 'stores officer and ta', 'service improvement director': 'service improvement director', 'adjunct professor of arts administration': 'adjunct professor of arts administration', 'teaching assistant': 'teaching assistant', 'substitute teacher': 'substitute teacher', 'marketing and recruitment specialist - faculty of environment': 'marketing and recruitment specialist - faculty of environment', 'department assistant': 'department assistant', 'communications junior assistant': 'communications junior assistant', 'professor of medical humanities and history of medicine': 'professor of medical humanities and history of medicine', 'assistant director and oper&infra': 'assistant director and oper&infra', 'call breckland council community officer, recurring events': 'call breckland council community officer, recurring events', 'freelance 2d and 3d generalist': 'freelance 2d and 3d generalist', 'application and business analyst': 'application and business analyst', 'teacher, nutrition, math games': 'teacher, nutrition, math games', 'atlantic coordinator and lead teacher': 'atlantic coordinator and lead teacher', 'trainee solicitor': 'trainee solicitor', 'epsrc career acceleration fellow and senior lecturer in organic chemistry': 'epsrc career acceleration fellow and senior lecturer in organic chemistry', 'provisional psychologist': 'provisional psychologist', 'psychotherapy': 'psychotherapy', 'design engineer': 'design engineer', 'lunchtime supervisor': 'lunchtime supervisor', 'research fellow': 'research fellow', 'senior clerk': 'senior clerk', 'technician': 'technician', 'senior lecturer': 'senior lecturer', 'roving reporter and delegate': 'roving reporter and delegate', 'associate lecturer': 'associate lecturer', 'director of training': 'director of training', 'office locations': 'office locations', 'records and formalities support': 'records and formalities support', 'lecturer in politics': 'lecturer in politics', 'political section': 'political section', 'bar staff': 'bar staff', 'senior engineer': 'senior engineer', 'research officer': 'research officer', 'honorary clinical senior lecturer': 'honorary clinical senior lecturer', 'research administrator': 'research administrator', 'program coordinator': 'program coordinator', 'quantity surveyor': 'quantity surveyor', 'network consultant': 'network consultant', 'customer service representative i': 'customer service representative i', 'software validation engineer': 'software validation engineer', 'solutions architect': 'solutions architect', 'solutions specialist': 'solutions specialist', 'resident assistant': 'resident assistant', 'principal consultant ( internal projects': 'principal consultant ( internal projects', 'professor of art history': 'professor of art history', 'sap-bi consultant': 'sap-bi consultant', 'staff and assistant': 'staff and assistant', 'registered yoga teacher': 'registered yoga teacher', 'marketing executive assistant': 'marketing executive assistant', 'assistant corporation counsel, special federal litigation': 'assistant corporation counsel, special federal litigation', 'logistics finance assistant': 'logistics finance assistant', 'demand supply senior advisor': 'demand supply senior advisor', 'exhibiting artist': 'exhibiting artist', 'marketing and communication executive': 'marketing and communication executive', 'rn health coach': 'rn health coach', 'material contact': 'material contact', 'committee member': 'committee member', 'italian photographer': 'italian photographer', 'deputy head': 'deputy head', 'personal banker': 'personal banker', 'senior marketing manager': 'senior marketing manager', 'senior project engineer': 'senior project engineer', 'graduate apprentice engineer': 'graduate apprentice engineer', 'senior human resources manager': 'senior human resources manager', 'distribuição': 'distribuição', 'production and plant manager': 'production and plant manager', 'position, international public relations, ranging from technology and telecommunication blue chips to educational and local government organisations': 'position, international public relations, ranging from technology and telecommunication blue chips to educational and local government organisations', \"group's coordinator\": \"group's coordinator\", 'principal investigator': 'principal investigator', 'trade floor support - financial systems support': 'trade floor support - financial systems support', 'nz sales development representative': 'nz sales development representative', 'studentpraktikant': 'studentpraktikant', 'life science package u and w': 'life science package u and w', 'treasurer': 'treasurer', 'rewards services polska': 'rewards services polska', 'fdi business development director': 'fdi business development director', 'finance manager': 'finance manager', 'sales consulatant': 'sales consultant', 'executive services manager': 'executive services manager', 'lease construction and infrastructure': 'lease construction and infrastructure', 'purchasing coordinator': 'purchasing coordinator', 'journalism professor': 'journalism professor', 'administrative assistant to the dean': 'administrative assistant to the dean', 'assistant to the director': 'assistant to the director', 'adjunct professor': 'adjunct professor', 'graduate teaching assistant': 'graduate teaching assistant', 'licensed teacher': 'licensed teacher', 'research consultant': 'research consultant', 'research assistant ii': 'research assistant ii', 'senior administrative assistant': 'senior administrative assistant', 'co owner': 'co owner', 'athletics assistant communications director': 'athletics assistant communications director', 'fiscal management officer': 'fiscal management officer', 'artist and printmaking professor': 'artist and printmaking professor', 'districtwide music teacher': 'districtwide music teacher', 'professor of psychology': 'professor of psychology', 'acting assistant director': 'acting assistant director', 'graduate research assistant': 'graduate research assistant', 'assistant desk supervisor': 'assistant desk supervisor', 'professor of finance': 'professor of finance', 'director of the islamic studies program': 'director of the islamic studies program', 'k-12 teacher': 'k-12 teacher', 'teacher (retired)': 'teacher (retired)', 'math teacher': 'math teacher', 'associate professor of medicine': 'associate professor of medicine', 'special education teacher': 'special education teacher', 'voice teacher': 'voice teacher', 'sixth grade math teacher': 'sixth grade math teacher', 'graduate assistant-research [cce e]': 'graduate assistant-research [cce e]', 'associate professor , medical director , cardiac electrophysiology laboratory , co-director': 'associate professor , medical director , cardiac electrophysiology laboratory , co-director', 'undergraduate research assistant': 'undergraduate research assistant', 'arbutus distinguished professor emeritus': 'arbutus distinguished professor emeritus', 'biology professor': 'biology professor', 'research study assistant': 'research study assistant', 'classroom teacher': 'classroom teacher', 'elementary school teacher': 'elementary school teacher', 'vocational rehabilitation consultant': 'vocational rehabilitation consultant', 'professor of sociology': 'professor of sociology', 'deacon': 'deacon', '5-year teacher education program': '5-year teacher education program', 'computer lab assistant': 'computer lab assistant', 'professional writing tutor': 'professional writing tutor', 'judicial assistant': 'judicial assistant', 'teacher, science': 'teacher, science', 'professor of english': 'professor of english', 'reading teacher': 'reading teacher', 'senior developer': 'senior developer', 'residential instructor': 'residential instructor', 'office : 10 finchley st, milton': 'office : 10 finchley st, milton', 'laboratory manager': 'laboratory manager', 'senior communication advisor': 'senior communication advisor', 'senior services engineer': 'senior services engineer', 'external recruitment consultant': 'external recruitment consultant', 'institutional sales': 'institutional sales', 'business development lead': 'business development lead', 'accounts officer': 'accounts officer', 'paralegal': 'paralegal', 'general manager, related beal': 'general manager, related beal', 'group fitness department head': 'group fitness department head', 'assistant professor of sociology': 'assistant professor of sociology', 'instructor ii': 'instructor ii', 'communications manager': 'communications manager', 'officer candidate': 'officer candidate', 'assistant professor': 'assistant professor', 'assistant professor of surgery': 'assistant professor of surgery', 'chair': 'chair', 'dpty rm (contact)': 'dpty rm (contact)', 'area talent manager, me': 'area talent manager, me', 'archive assistant': 'archive assistant', 'assistant financial controller': 'assistant financial controller', 'national account manager agricultural sector': 'national account manager agricultural sector', 'adjunct instructor': 'adjunct instructor', 'foreign law clerk': 'foreign law clerk', 'science instructor': 'science instructor', 'air traffic flow controller': 'air traffic flow controller', 'internet&mobilebanking': 'internet mobile banking', 'director medicine': 'director medicine', 'registered nurse': 'registered nurse', 'senior policy officer': 'senior policy officer', 'project manager - esp monitoring': 'project manager - esp monitoring', 'american comedian': 'american comedian', 'part-time lecturer, school of education and human development': 'part-time lecturer, school of education and human development', 'senior architectural and autocad technician': 'senior architectural and autocad technician', 'senior compliance executive': 'senior compliance executive', \"vikings children's fund intern and mentor\": \"vikings children's fund intern and mentor\", 'business development director': 'business development director', 'project officer (travelsmart) - transport': 'project officer (travelsmart) - transport', 'werkstudent sales': 'working student sales', 'english tchr, high school': 'english teacher, high school', 'commercial manager ,': 'commercial manager ,', 'school director': 'school director', 'career development research fellow at the wellcome trust - mrc stem cell institute and department of veterinary medicine at the university of cambridge': 'career development research fellow at the wellcome trust - mrc stem cell institute and department of veterinary medicine at the university of cambridge', 'german 101 instructor': 'german 101 instructor', 'project co ordinator: international product support, land and armaments': 'project coordinator: international product support, land and armaments', 'recruitment and quality coordinator': 'recruitment and quality coordinator', 'mathematics tutor': 'mathematics tutor', 'instructional designer and elearning developer and senior technical writer and trainer': 'instructional designer and elearning developer and senior technical writer and trainer', 'adjunct faculty - instructor': 'adjunct faculty - instructor', 'electronic module procurement department': 'electronic module procurement department', 'sophomore collegiate hockey player': 'sophomore collegiate hockey player', 'accounting analyst': 'accounting analyst', 'senior accountant': 'senior accountant', 'unit manager': 'unit manager', 'edc and debt sales': 'edc and debt sales', 'student researcher': 'student researcher', 'technical manager': 'technical manager', 'work coordinator': 'work coordinator', 'sr.procurement officer': 'sr.procurement officer', 'assistant': 'assistant', 'adjunct professor of entrepreneurship': 'adjunct professor of entrepreneurship', 'original teacher': 'original teacher', 'examinations officer': 'examinations officer', 'position in nz product champion': 'position in nz product champion', 'local authority representative': 'local authority representative', 'biodiversity technician': 'biodiversity technician', 'position in information technology': 'position in information technology', 'campaign and events coordinator': 'campaign and events coordinator', 'mortgage professional and consultant': 'mortgage professional and consultant', 'public health engineer': 'public health engineer', 'recruitment consultant': 'recruitment consultant', 'apprenticeship recruitment consultant': 'apprenticeship recruitment consultant', 'head coach': 'head coach', 'sap fico consultant': 'sap fico consultant', 'assistant to the chairman': 'assistant to the chairman', 'assistant merchandise planner': 'assistant merchandise planner', 'associate specialist, operations support': 'associate specialist, operations support', 'student coordinator': 'student coordinator', 'area manager': 'area manager', 'relationship manager - financial division': 'relationship manager - financial division', 'advertising representative and writer': 'advertising representative and writer', 'associate director, institutional banking': 'associate director, institutional banking', 'procurment engineer': 'procurement engineer', 'latam treasury services technology': 'latam treasury services technology', 'director of photography and photographer': 'director of photography and photographer', 'director of coaching': 'director of coaching', 'event coordinator sydney harbour': 'event coordinator sydney harbour', 'information technology department': 'information technology department', 'training manager': 'training manager', 'global compliance regulatory affairs': 'global compliance regulatory affairs', 'disbursement accounts executive': 'disbursement accounts executive', 'post-doctoral researcher': 'post-doctoral researcher', 'director of core services': 'director of core services', 'co-head , infrastructure and utilities ratings': 'co-head , infrastructure and utilities ratings', 'finance and business economics teacher': 'finance and business economics teacher', 'assistant vice principal': 'assistant vice principal', 'y6 teacher and art and dt subject leader': 'y6 teacher and art and dt subject leader', 'organic chemist, professor': 'organic chemist, professor', 'professor in environmental statistics': 'professor in environmental statistics', 'architectural assistant': 'architectural assistant', 'french assistant': 'french assistant', 'own lecturer': 'own lecturer', 'fellow': 'fellow', 'member of the committee of management': 'member of the committee of management', 'platform manager\\\\, ipower': 'platform manager\\\\, ipower', 'senior administrative officer, research services': 'senior administrative officer, research services', 'lecturer  and  workplace  assessor': 'lecturer  and  workplace  assessor', 'position in international relations': 'position in international relations', 'recruitment consultant - property': 'recruitment consultant - property', 'assistant professor of medicine': 'assistant professor of medicine', 'community engagement coordinator': 'community engagement coordinator', 'lead manufacturing engineer': 'lead manufacturing engineer', 'payroll team leader - finance': 'payroll team leader - finance', 'billing and collection analyst': 'billing and collection analyst', 'creative studio': 'creative studio', 'sales account manager': 'sales account manager', 'adjunct anatomy and physiology instructor': 'adjunct anatomy and physiology instructor', 'visiting assistant professor': 'visiting assistant professor', 'teacher assistant': 'teacher assistant', 'senior naval science instructor': 'senior naval science instructor', 'assistant professor, college of aeronautics': 'assistant professor, college of aeronautics', 'college instructor': 'college instructor', 'instructor in american history': 'instructor in american history', 'assistant professor educator': 'assistant professor educator', 'adjunct faculty instructor': 'adjunct faculty instructor', 'assistant professor of business administration': 'assistant professor of business administration', 'adjunct english instructor': 'adjunct english instructor', 'research assistant professor': 'research assistant professor', 'family-medicine physician': 'family-medicine physician', 'assistant professor, assistant professor': 'assistant professor, assistant professor', 'assistant clinical professor': 'assistant clinical professor', 'assistant professor of music': 'assistant professor of music', 'assistant professor, department of chemistry and biochemistry': 'assistant professor, department of chemistry and biochemistry', 'assistant professor of art': 'assistant professor of art', 'teacher , guidance counselor , assistant principal': 'teacher , guidance counselor , assistant principal', \"teacher's assistant\": \"teacher's assistant\", 'senior license management consultant': 'senior license management consultant', 'girls volleyball coach': 'girls volleyball coach', 'senior underwriter': 'senior underwriter', 'property management': 'property management', 'kitchen manager': 'kitchen manager', 'senior structural engineer': 'senior structural engineer', 'document controller - i&e': 'document controller - i&e', 'senior small group underwriter': 'senior small group underwriter', 'legal counsel': 'legal counsel', 'sous chef': 'sous chef', 'graduate student': 'graduate student', 'psychiatric nurse practitioner': 'psychiatric nurse practitioner', 'senior analyst programmer': 'senior analyst programmer', 'child care eligibility supervisor': 'child care eligibility supervisor', 'freelancer': 'freelancer', 'channel management': 'channel management', 'Telecommunications': 'Telecommunications', 'Publishing': 'Publishing', 'Computer Software': 'Computer Software', 'Electronics': 'Electronics', 'Investment Banking': 'Investment Banking', 'Internet': 'Internet', 'Business Services': 'Business Services', 'Oil & Energy': 'Oil & Energy', 'Information Technology and Services': 'Information Technology and Services', 'Renewables & Environment': 'Renewables & Environment', 'Consumer Electronics': 'Consumer Electronics', 'Management Consulting': 'Management Consulting', 'Insurance': 'Insurance', 'Banking': 'Banking', 'Food & Beverages': 'Food & Beverages', 'Manufacturing': 'Manufacturing', 'Museums and Institutions': 'Museums and Institutions', 'Automobiles': 'Automobiles', 'Nonprofit Organization Management': 'Nonprofit Organization Management', 'Education': 'Education', 'Media Production': 'Media Production', 'Brokerage': 'Brokerage', 'Transportation/Trucking/Railroad': 'Transportation/Trucking/Railroad', 'Hospitality': 'Hospitality', 'Marketing and Advertising': 'Marketing and Advertising', 'Test & Measurement Equipment': 'Test & Measurement Equipment', 'Office Products': 'Office Products', 'Construction': 'Construction', 'Retail': 'Retail', 'Legal Services': 'Legal Services', 'Design': 'Design', 'Computer Hardware': 'Computer Hardware', 'Hospital & Health Care': 'Hospital & Health Care', 'Furniture': 'Furniture', 'Consumer Goods': 'Consumer Goods', 'Utilities': 'Utilities', 'Security Products & Services': 'Security Products & Services', 'Biotechnology': 'Biotechnology', 'Pharmaceuticals': 'Pharmaceuticals', 'Building Materials': 'Building Materials', 'Chemicals': 'Chemicals', 'Consumer Services': 'Consumer Services', 'Boats & Submarines': 'Boats & Submarines', 'Newspapers': 'Newspapers', 'Real Estate': 'Real Estate', 'Financial Services': 'Financial Services', 'Information Services': 'Information Services', 'Libraries': 'Libraries', 'Computer & Network Security': 'Computer & Network Security', 'Toys & Games': 'Toys & Games', 'Education Management': 'Education Management', 'Tobacco': 'Tobacco', 'Motion Pictures and Film': 'Motion Pictures and Film', 'Environmental Services': 'Environmental Services', 'Program Development': 'Program Development', 'Staffing and Recruiting': 'Staffing and Recruiting', 'Industrial Automation': 'Industrial Automation', 'Venture Capital & Private Equity': 'Venture Capital & Private Equity', 'Entertainment': 'Entertainment', 'Cultural': 'Cultural', 'Tires & Rubber': 'Tires & Rubber', 'Leisure, Travel & Tourism': 'Leisure, Travel & Tourism', 'Sports': 'Sports', 'Fund-Raising': 'Fund-Raising', 'Professional Training & Coaching': 'Professional Training & Coaching', 'Human Resources': 'Human Resources', 'E-Learning': 'E-Learning', 'Electrical/Electronic Manufacturing': 'Electrical/Electronic Manufacturing', 'Logistics and Supply Chain': 'Logistics and Supply Chain', 'Government Administration': 'Government Administration', 'Public Safety': 'Public Safety', 'Computer Networking': 'Computer Networking', 'Car & Truck Rental': 'Car & Truck Rental', 'Motor Vehicle Dealers': 'Motor Vehicle Dealers', 'Airlines/Aviation': 'Airlines/Aviation', 'Public Relations and Communications': 'Public Relations and Communications', 'Law Practice': 'Law Practice', 'Performing Arts': 'Performing Arts', 'Individual & Family Services': 'Individual & Family Services', 'Mental Health Care': 'Mental Health Care', 'Civil Engineering': 'Civil Engineering', 'Maritime': 'Maritime', 'Research': 'Research', 'Music': 'Music', 'Mining & Metals': 'Mining & Metals', 'Package/Freight Delivery': 'Package/Freight Delivery', 'Sporting Goods': 'Sporting Goods', 'Civic & Social Organization': 'Civic & Social Organization', 'Online Media': 'Online Media', 'Auctions': 'Auctions', 'Broadcast Media': 'Broadcast Media', 'Market Research': 'Market Research', 'Political Organization': 'Political Organization', 'Philanthropy': 'Philanthropy', 'Military': 'Military', 'Primary/Secondary Education': 'Primary/Secondary Education', 'Writing and Editing': 'Writing and Editing', 'Arts and Crafts': 'Arts and Crafts', 'Glass, Ceramics & Concrete': 'Glass, Ceramics & Concrete', 'Higher Education': 'Higher Education', 'Accounting': 'Accounting', 'International Trade and Development': 'International Trade and Development', 'Health, Wellness and Fitness': 'Health, Wellness and Fitness', 'Printing': 'Printing', 'Investment Management': 'Investment Management', 'Food Production': 'Food Production', 'Religious Institutions': 'Religious Institutions', 'Textiles': 'Textiles', 'Computer Games': 'Computer Games', 'Photography': 'Photography', 'Architecture & Planning': 'Architecture & Planning', 'Wire & Cable': 'Wire & Cable'}\n"
          ],
          "name": "stdout"
        }
      ]
    },
    {
      "cell_type": "code",
      "metadata": {
        "id": "9lcnkT4lLMsq",
        "colab_type": "code",
        "colab": {}
      },
      "source": [
        "#  Applying the translations to the Dataframe\n",
        "people.replace(translations, inplace = True)"
      ],
      "execution_count": null,
      "outputs": []
    },
    {
      "cell_type": "markdown",
      "metadata": {
        "id": "RNUpnbngHL7G",
        "colab_type": "text"
      },
      "source": [
        "Having a last look at the data info to make sure its clean and appropiate to work with."
      ]
    },
    {
      "cell_type": "code",
      "metadata": {
        "id": "GPGI9rd7G3DL",
        "colab_type": "code",
        "colab": {
          "base_uri": "https://localhost:8080/",
          "height": 238
        },
        "outputId": "1a1d5bae-dad9-4f90-989f-b1970ca90bac"
      },
      "source": [
        "#Checking for any anomalies\n",
        "people.info()"
      ],
      "execution_count": null,
      "outputs": [
        {
          "output_type": "stream",
          "text": [
            "<class 'pandas.core.frame.DataFrame'>\n",
            "Int64Index: 2153 entries, 0 to 2778\n",
            "Data columns (total 6 columns):\n",
            " #   Column                   Non-Null Count  Dtype \n",
            "---  ------                   --------------  ----- \n",
            " 0   PersonId                 2153 non-null   int64 \n",
            " 1   CurrentRole              2153 non-null   object\n",
            " 2   Country                  2153 non-null   object\n",
            " 3   Industry                 2153 non-null   object\n",
            " 4   NumberOfRecommendations  2153 non-null   int64 \n",
            " 5   NumberOfConnections      2153 non-null   int64 \n",
            "dtypes: int64(3), object(3)\n",
            "memory usage: 117.7+ KB\n"
          ],
          "name": "stdout"
        }
      ]
    },
    {
      "cell_type": "markdown",
      "metadata": {
        "id": "utikbO5IGdqz",
        "colab_type": "text"
      },
      "source": [
        "Having a look at the cleaned Dataframe I'll work with to gather the results."
      ]
    },
    {
      "cell_type": "code",
      "metadata": {
        "id": "IprlSxvxGqtV",
        "colab_type": "code",
        "colab": {
          "base_uri": "https://localhost:8080/",
          "height": 142
        },
        "outputId": "aa1498bd-dda0-476f-eedc-2b35022a6bb6"
      },
      "source": [
        "# Requesting a small sample\n",
        "people.sample(3)"
      ],
      "execution_count": null,
      "outputs": [
        {
          "output_type": "execute_result",
          "data": {
            "text/html": [
              "<div>\n",
              "<style scoped>\n",
              "    .dataframe tbody tr th:only-of-type {\n",
              "        vertical-align: middle;\n",
              "    }\n",
              "\n",
              "    .dataframe tbody tr th {\n",
              "        vertical-align: top;\n",
              "    }\n",
              "\n",
              "    .dataframe thead th {\n",
              "        text-align: right;\n",
              "    }\n",
              "</style>\n",
              "<table border=\"1\" class=\"dataframe\">\n",
              "  <thead>\n",
              "    <tr style=\"text-align: right;\">\n",
              "      <th></th>\n",
              "      <th>PersonId</th>\n",
              "      <th>CurrentRole</th>\n",
              "      <th>Country</th>\n",
              "      <th>Industry</th>\n",
              "      <th>NumberOfRecommendations</th>\n",
              "      <th>NumberOfConnections</th>\n",
              "    </tr>\n",
              "  </thead>\n",
              "  <tbody>\n",
              "    <tr>\n",
              "      <th>1323</th>\n",
              "      <td>643458314</td>\n",
              "      <td>member, department of ophthalmology</td>\n",
              "      <td>United States</td>\n",
              "      <td>Education</td>\n",
              "      <td>0</td>\n",
              "      <td>0</td>\n",
              "    </tr>\n",
              "    <tr>\n",
              "      <th>767</th>\n",
              "      <td>643177889</td>\n",
              "      <td>member</td>\n",
              "      <td>Canada</td>\n",
              "      <td>Hospitality</td>\n",
              "      <td>0</td>\n",
              "      <td>0</td>\n",
              "    </tr>\n",
              "    <tr>\n",
              "      <th>215</th>\n",
              "      <td>645931903</td>\n",
              "      <td>engineering manager</td>\n",
              "      <td>United States</td>\n",
              "      <td>Oil &amp; Energy</td>\n",
              "      <td>0</td>\n",
              "      <td>0</td>\n",
              "    </tr>\n",
              "  </tbody>\n",
              "</table>\n",
              "</div>"
            ],
            "text/plain": [
              "       PersonId  ... NumberOfConnections\n",
              "1323  643458314  ...                   0\n",
              "767   643177889  ...                   0\n",
              "215   645931903  ...                   0\n",
              "\n",
              "[3 rows x 6 columns]"
            ]
          },
          "metadata": {
            "tags": []
          },
          "execution_count": 12
        }
      ]
    },
    {
      "cell_type": "markdown",
      "metadata": {
        "id": "cKubBRwqGUGx",
        "colab_type": "text"
      },
      "source": [
        "## Data Exploration"
      ]
    },
    {
      "cell_type": "markdown",
      "metadata": {
        "id": "BWYcB070_Hi5",
        "colab_type": "text"
      },
      "source": [
        "Checking the unique values in **CurrentRole**, **Country** and **Industry** will allow me to gain more insight and clarity to make the correct decisions while choosing the best clients for Alpha's client portfolio."
      ]
    },
    {
      "cell_type": "markdown",
      "metadata": {
        "id": "Hsb95VA1QEgY",
        "colab_type": "text"
      },
      "source": [
        "Checking unique roles of these people and their total amount."
      ]
    },
    {
      "cell_type": "code",
      "metadata": {
        "id": "vX6MP4C4IIg2",
        "colab_type": "code",
        "colab": {
          "base_uri": "https://localhost:8080/",
          "height": 102
        },
        "outputId": "c5a98f13-c658-4d76-e3d2-65007c6d65b5"
      },
      "source": [
        "# Requesting to see unique roles of these people and their total amount.\n",
        "print(people.CurrentRole.unique())\n",
        "print(\" \")\n",
        "print(\"Unique values: \" + str(people.CurrentRole.nunique()))"
      ],
      "execution_count": null,
      "outputs": [
        {
          "output_type": "stream",
          "text": [
            "['vice president' 'chief revenue officer'\n",
            " 'vp, customer operations and support' ...\n",
            " 'child care eligibility supervisor' 'freelancer' 'channel management']\n",
            " \n",
            "Unique values: 1606\n"
          ],
          "name": "stdout"
        }
      ]
    },
    {
      "cell_type": "markdown",
      "metadata": {
        "id": "rpy3G2aqORzT",
        "colab_type": "text"
      },
      "source": [
        "There are many roles but only a few have the power to request or recommend Alpha's services."
      ]
    },
    {
      "cell_type": "markdown",
      "metadata": {
        "id": "C9J20MuWQO24",
        "colab_type": "text"
      },
      "source": [
        "Checking the unique countries were these people are from and the total amount of these."
      ]
    },
    {
      "cell_type": "code",
      "metadata": {
        "id": "NgP3EaXs_qRy",
        "colab_type": "code",
        "colab": {
          "base_uri": "https://localhost:8080/",
          "height": 187
        },
        "outputId": "37461c87-43e3-41ee-9cbf-967e35c5741c"
      },
      "source": [
        "# Requesting to see the unique countries were these people are from\n",
        "# and the total amount of these.\n",
        "print(people.Country.unique())\n",
        "print(\" \")\n",
        "print(\"Unique values: \" + str(people.Country.nunique()))"
      ],
      "execution_count": null,
      "outputs": [
        {
          "output_type": "stream",
          "text": [
            "['Dominica' 'United States' 'Canada' 'Spain' 'India'\n",
            " 'United Arab Emirates' 'United Kingdom' 'Turkey' 'Germany' 'Bangladesh'\n",
            " 'Costa Rica' 'Mexico' 'Australia' 'China' 'Israel' 'Italy' 'France'\n",
            " 'Netherlands' 'Sweden' 'Japan' 'Switzerland' 'Argentina' 'Chile' 'Poland'\n",
            " 'Belgium' 'Singapore' 'Korea' 'Malta' 'Portugal' 'Brazil' 'South Africa'\n",
            " 'Ireland' 'Colombia' 'Hong Kong' 'Denmark' 'Cyprus' 'Saudi Arabia'\n",
            " 'Taiwan' 'Slovak Republic' 'Finland' 'Norway' 'Czech Republic' 'Kuwait'\n",
            " 'Qatar' 'New Zealand' 'Hungary' 'Malaysia' 'Romania' 'Greece']\n",
            " \n",
            "Unique values: 49\n"
          ],
          "name": "stdout"
        }
      ]
    },
    {
      "cell_type": "markdown",
      "metadata": {
        "id": "BFl5iHG2K7-C",
        "colab_type": "text"
      },
      "source": [
        "The fact that close to 95% of Alpha's developers are from LATAM and the data I've been given is so diverse in locations, makes me believe that Alpha offers a remote working experience to their clients. "
      ]
    },
    {
      "cell_type": "markdown",
      "metadata": {
        "id": "h6o-mFSrQXnt",
        "colab_type": "text"
      },
      "source": [
        "Checking the unique industries were these people are from and the total amount of these."
      ]
    },
    {
      "cell_type": "code",
      "metadata": {
        "id": "gVxS0hk9H-zp",
        "colab_type": "code",
        "colab": {
          "base_uri": "https://localhost:8080/",
          "height": 646
        },
        "outputId": "89666b34-4020-4716-b56b-46f34ff14e64"
      },
      "source": [
        "# Requesting to see the unique industries were these people are from\n",
        "# and the total amount of these.\n",
        "print(people.Industry.unique())\n",
        "print(\" \")\n",
        "print(\"Unique values: \" + str(people.Industry.nunique()))"
      ],
      "execution_count": null,
      "outputs": [
        {
          "output_type": "stream",
          "text": [
            "['Telecommunications' 'Publishing' 'Computer Software' 'Electronics'\n",
            " 'Investment Banking' 'Internet' 'Business Services' 'Oil & Energy'\n",
            " 'Information Technology and Services' 'Renewables & Environment'\n",
            " 'Consumer Electronics' 'Management Consulting' 'Insurance' 'Banking'\n",
            " 'Food & Beverages' 'Manufacturing' 'Museums and Institutions'\n",
            " 'Automobiles' 'Nonprofit Organization Management' 'Education'\n",
            " 'Media Production' 'Brokerage' 'Transportation/Trucking/Railroad'\n",
            " 'Hospitality' 'Marketing and Advertising' 'Test & Measurement Equipment'\n",
            " 'Office Products' 'Construction' 'Retail' 'Legal Services' 'Design'\n",
            " 'Computer Hardware' 'Hospital & Health Care' 'Furniture' 'Consumer Goods'\n",
            " 'Utilities' 'Security Products & Services' 'Biotechnology'\n",
            " 'Pharmaceuticals' 'Building Materials' 'Chemicals' 'Consumer Services'\n",
            " 'Boats & Submarines' 'Newspapers' 'Real Estate' 'Financial Services'\n",
            " 'Information Services' 'Libraries' 'Computer & Network Security'\n",
            " 'Toys & Games' 'Education Management' 'Tobacco'\n",
            " 'Motion Pictures and Film' 'Environmental Services' 'Program Development'\n",
            " 'Staffing and Recruiting' 'Industrial Automation'\n",
            " 'Venture Capital & Private Equity' 'Entertainment' 'Cultural'\n",
            " 'Tires & Rubber' 'Leisure, Travel & Tourism' 'Sports' 'Fund-Raising'\n",
            " 'Professional Training & Coaching' 'Human Resources' 'E-Learning'\n",
            " 'Electrical/Electronic Manufacturing' 'Logistics and Supply Chain'\n",
            " 'Government Administration' 'Public Safety' 'Computer Networking'\n",
            " 'Car & Truck Rental' 'Motor Vehicle Dealers' 'Airlines/Aviation'\n",
            " 'Public Relations and Communications' 'Law Practice' 'Performing Arts'\n",
            " 'Individual & Family Services' 'Mental Health Care' 'Civil Engineering'\n",
            " 'Maritime' 'Research' 'Music' 'Mining & Metals'\n",
            " 'Package/Freight Delivery' 'Sporting Goods' 'Civic & Social Organization'\n",
            " 'Online Media' 'Auctions' 'Broadcast Media' 'Market Research'\n",
            " 'Political Organization' 'Philanthropy' 'Military'\n",
            " 'Primary/Secondary Education' 'Writing and Editing' 'Arts and Crafts'\n",
            " 'Glass, Ceramics & Concrete' 'Higher Education' 'Accounting'\n",
            " 'International Trade and Development' 'Health, Wellness and Fitness'\n",
            " 'Printing' 'Investment Management' 'Food Production'\n",
            " 'Religious Institutions' 'Textiles' 'Computer Games' 'Photography'\n",
            " 'Architecture & Planning' 'Wire & Cable']\n",
            " \n",
            "Unique values: 112\n"
          ],
          "name": "stdout"
        }
      ]
    },
    {
      "cell_type": "markdown",
      "metadata": {
        "id": "wGFkvLzqNH7M",
        "colab_type": "text"
      },
      "source": [
        "While every industry could benefit from technology, not every industry requires or is neccesarily actively looking for IT services."
      ]
    },
    {
      "cell_type": "markdown",
      "metadata": {
        "id": "eXzBbbqQhZvF",
        "colab_type": "text"
      },
      "source": [
        "## Choosing The Best Clients"
      ]
    },
    {
      "cell_type": "markdown",
      "metadata": {
        "id": "cR5ApfYkhfvI",
        "colab_type": "text"
      },
      "source": [
        "I will define a good client as one who is part of an industry relevant to technology and has a current role capable of hiring or recommending an IT staff augmentation to the company. I'll also take into consideration the country where they are on, since in some countries IT is more common and sought. Lastly I'll rank the remaining people by their number of connections and recommendations since these can impact the company's popularity upon a recommendation from the client. With this data I can create a new Dataframe that contains only the selected people for a better handling of information."
      ]
    },
    {
      "cell_type": "markdown",
      "metadata": {
        "id": "hpVTE9kJQ1Gs",
        "colab_type": "text"
      },
      "source": [
        "Filtering data by people who work in industries relevant to IT."
      ]
    },
    {
      "cell_type": "code",
      "metadata": {
        "id": "9mAbcQ89FK4i",
        "colab_type": "code",
        "colab": {}
      },
      "source": [
        "# Industires where IT staff augmentation may most likely be wanted\n",
        "\n",
        "relevant_industries=['Telecommunications', 'Computer Software',\n",
        "       'Investment Banking', 'Internet',\n",
        "       'Information Technology and Services',\n",
        "       'Management Consulting', 'Nonprofit Organization Management', \n",
        "       'Computer Hardware', 'Biotechnology',\n",
        "       'Consumer Services', 'Information Services',\n",
        "       'Computer & Network Security',\n",
        "       'Program Development','Staffing and Recruiting', 'Industrial Automation', \n",
        "       'E-Learning','Logistics and Supply Chain', \n",
        "       'Government Administration', 'Public Safety', \n",
        "       'Computer Networking', 'Airlines/Aviation', 'Maritime', 'Research',\n",
        "       'Civic & Social Organization', 'Online Media','Market Research',\n",
        "       'Political Organization', 'Philanthropy', 'Military',\n",
        "       'Higher Education','Computer Games', 'Wire & Cable', 'Banking']"
      ],
      "execution_count": null,
      "outputs": []
    },
    {
      "cell_type": "code",
      "metadata": {
        "id": "_5mcaYmaFKEL",
        "colab_type": "code",
        "colab": {}
      },
      "source": [
        "# Creating a DataFrame that stores the rows of the desired industries\n",
        "df1 = pd.DataFrame (columns = [\"PersonId\", \"CurrentRole\", \"Country\", \"Industry\", \n",
        "                               \"NumberOfRecommendations\", \"NumberOfConnections\"])\n",
        "\n",
        "# Storing only the rows from the desired industries in the dataframe\n",
        "for row in people.Industry:\n",
        "    if row in (relevant_industries):\n",
        "      df1 = df1.append(people[people['Industry']==row])"
      ],
      "execution_count": null,
      "outputs": []
    },
    {
      "cell_type": "code",
      "metadata": {
        "id": "w3uQmzD9H31i",
        "colab_type": "code",
        "colab": {}
      },
      "source": [
        "# dropping dupliacte results\n",
        "df1 = df1.drop_duplicates(subset=['PersonId'])"
      ],
      "execution_count": null,
      "outputs": []
    },
    {
      "cell_type": "code",
      "metadata": {
        "id": "UommlUKYRDTF",
        "colab_type": "code",
        "colab": {
          "base_uri": "https://localhost:8080/",
          "height": 34
        },
        "outputId": "250a7d0d-549e-4a2c-84b8-acf6775037c4"
      },
      "source": [
        "# Checking how many people remain\n",
        "df1.shape"
      ],
      "execution_count": null,
      "outputs": [
        {
          "output_type": "execute_result",
          "data": {
            "text/plain": [
              "(524, 6)"
            ]
          },
          "metadata": {
            "tags": []
          },
          "execution_count": 19
        }
      ]
    },
    {
      "cell_type": "markdown",
      "metadata": {
        "id": "jtdkqjMdRQAh",
        "colab_type": "text"
      },
      "source": [
        "After filtering by Indsutries, 524 people remain..."
      ]
    },
    {
      "cell_type": "markdown",
      "metadata": {
        "id": "5vMwuaciRVVv",
        "colab_type": "text"
      },
      "source": [
        "Next, I'll filter the data by the people with roles who have the power to recommend or hire in their companies."
      ]
    },
    {
      "cell_type": "code",
      "metadata": {
        "id": "risp_gdAIkGr",
        "colab_type": "code",
        "colab": {}
      },
      "source": [
        "# Roles with the power to recommend or hire in their companies.\n",
        "\n",
        "search_values = ['president', 'director', 'principal', 'manager', 'research', \n",
        "            'human resources', 'recruiter','founder', 'operations', \n",
        "            'coordinator', 'chief', 'executive']"
      ],
      "execution_count": null,
      "outputs": []
    },
    {
      "cell_type": "code",
      "metadata": {
        "id": "c_fEFHcxJFof",
        "colab_type": "code",
        "colab": {}
      },
      "source": [
        "# Leaving only the relevant role position rows in the dataframe\n",
        "df1 = df1[df1.CurrentRole.str.contains('|'.join(search_values))]"
      ],
      "execution_count": null,
      "outputs": []
    },
    {
      "cell_type": "code",
      "metadata": {
        "id": "6QNs48YaRvTW",
        "colab_type": "code",
        "colab": {
          "base_uri": "https://localhost:8080/",
          "height": 34
        },
        "outputId": "be6c0fe8-7430-4606-8282-f9d7c0eab3c5"
      },
      "source": [
        "df1.shape"
      ],
      "execution_count": null,
      "outputs": [
        {
          "output_type": "execute_result",
          "data": {
            "text/plain": [
              "(251, 6)"
            ]
          },
          "metadata": {
            "tags": []
          },
          "execution_count": 22
        }
      ]
    },
    {
      "cell_type": "markdown",
      "metadata": {
        "id": "td1sCSKMRxtg",
        "colab_type": "text"
      },
      "source": [
        "After filtering, only 251 people remain..."
      ]
    },
    {
      "cell_type": "markdown",
      "metadata": {
        "id": "yz5x9TaqR4Mw",
        "colab_type": "text"
      },
      "source": [
        "Next I'll filter the data by Countries that may be more accepting of technology and its benefits."
      ]
    },
    {
      "cell_type": "code",
      "metadata": {
        "id": "n1qt3qIEVVLC",
        "colab_type": "code",
        "colab": {
          "base_uri": "https://localhost:8080/",
          "height": 102
        },
        "outputId": "9e9a2ec1-9bfd-4083-d820-62f8359be35e"
      },
      "source": [
        "df1.Country.unique()"
      ],
      "execution_count": null,
      "outputs": [
        {
          "output_type": "execute_result",
          "data": {
            "text/plain": [
              "array(['Dominica', 'Spain', 'United States', 'United Kingdom', 'Sweden',\n",
              "       'Canada', 'United Arab Emirates', 'Germany', 'France', 'Israel',\n",
              "       'Ireland', 'South Africa', 'Hong Kong', 'Australia', 'Japan',\n",
              "       'Colombia', 'Saudi Arabia', 'Singapore', 'Netherlands', 'Portugal',\n",
              "       'Switzerland', 'New Zealand', 'China', 'Italy'], dtype=object)"
            ]
          },
          "metadata": {
            "tags": []
          },
          "execution_count": 23
        }
      ]
    },
    {
      "cell_type": "code",
      "metadata": {
        "id": "oUSA0NXmSqnX",
        "colab_type": "code",
        "colab": {}
      },
      "source": [
        "relevant_countries =['Spain', 'United States', 'United Kingdom', 'Sweden',\n",
        "       'Canada', 'United Arab Emirates', 'Germany', 'France', 'Israel',\n",
        "       'Ireland', 'South Africa', 'Hong Kong', 'Australia', 'Japan',\n",
        "       'Colombia', 'Saudi Arabia', 'Singapore', 'Netherlands', 'Portugal',\n",
        "       'Switzerland', 'New Zealand', 'China', 'Italy']"
      ],
      "execution_count": null,
      "outputs": []
    },
    {
      "cell_type": "code",
      "metadata": {
        "id": "nTWaZATBUY0b",
        "colab_type": "code",
        "colab": {}
      },
      "source": [
        "# Storing only the rows from the desired countries in a Dataframe\n",
        "df2 = pd.DataFrame (columns = [\"PersonId\", \"CurrentRole\", \"Country\", \"Industry\", \n",
        "                               \"NumberOfRecommendations\", \"NumberOfConnections\"])\n",
        "\n",
        "for row in df1.Country:\n",
        "    if row in (relevant_countries):\n",
        "      df2 = df2.append(df1[df1['Country']==row])"
      ],
      "execution_count": null,
      "outputs": []
    },
    {
      "cell_type": "code",
      "metadata": {
        "id": "RjD7742WUrNh",
        "colab_type": "code",
        "colab": {}
      },
      "source": [
        "# dropping dupliacte results\n",
        "df2 = df2.drop_duplicates(subset=['PersonId'])"
      ],
      "execution_count": null,
      "outputs": []
    },
    {
      "cell_type": "code",
      "metadata": {
        "id": "MvtBG_1dUuEJ",
        "colab_type": "code",
        "colab": {
          "base_uri": "https://localhost:8080/",
          "height": 34
        },
        "outputId": "7cdc9e68-487c-4ba1-8825-ba0e1c0b780a"
      },
      "source": [
        "df2.shape"
      ],
      "execution_count": null,
      "outputs": [
        {
          "output_type": "execute_result",
          "data": {
            "text/plain": [
              "(250, 6)"
            ]
          },
          "metadata": {
            "tags": []
          },
          "execution_count": 27
        }
      ]
    },
    {
      "cell_type": "markdown",
      "metadata": {
        "id": "fdZfvZ8HXFSK",
        "colab_type": "text"
      },
      "source": [
        "After filtering, only 250 people remain..."
      ]
    },
    {
      "cell_type": "markdown",
      "metadata": {
        "id": "5_RAmaZKXSUM",
        "colab_type": "text"
      },
      "source": [
        "Lastly, I'll sort people by their number of connections and recommendations since these can impact the company's popularity upon a recommendation from the client. These would be the best clients. I'm only taking the top 100 since its the amount required."
      ]
    },
    {
      "cell_type": "code",
      "metadata": {
        "id": "NHI4ImCKJ_sg",
        "colab_type": "code",
        "colab": {}
      },
      "source": [
        "# Sorting people by their number of connections and recommendations\n",
        "\n",
        "people_out = df2.sort_values(['NumberOfConnections', 'NumberOfRecommendations'], \n",
        "                   ascending=False).head(100)"
      ],
      "execution_count": null,
      "outputs": []
    },
    {
      "cell_type": "markdown",
      "metadata": {
        "id": "XlnCsBBeXhhT",
        "colab_type": "text"
      },
      "source": [
        "## Taking a look at the Results"
      ]
    },
    {
      "cell_type": "markdown",
      "metadata": {
        "id": "u62hrQX_YKMI",
        "colab_type": "text"
      },
      "source": [
        "Requesting the top 5 clients"
      ]
    },
    {
      "cell_type": "code",
      "metadata": {
        "id": "Xqgs0tQzXlGy",
        "colab_type": "code",
        "colab": {
          "base_uri": "https://localhost:8080/",
          "height": 272
        },
        "outputId": "1fcca4cb-3a30-4c5b-93e4-e509e39efacb"
      },
      "source": [
        "#Requesting the top 5\n",
        "people_out.head(5)"
      ],
      "execution_count": null,
      "outputs": [
        {
          "output_type": "execute_result",
          "data": {
            "text/html": [
              "<div>\n",
              "<style scoped>\n",
              "    .dataframe tbody tr th:only-of-type {\n",
              "        vertical-align: middle;\n",
              "    }\n",
              "\n",
              "    .dataframe tbody tr th {\n",
              "        vertical-align: top;\n",
              "    }\n",
              "\n",
              "    .dataframe thead th {\n",
              "        text-align: right;\n",
              "    }\n",
              "</style>\n",
              "<table border=\"1\" class=\"dataframe\">\n",
              "  <thead>\n",
              "    <tr style=\"text-align: right;\">\n",
              "      <th></th>\n",
              "      <th>PersonId</th>\n",
              "      <th>CurrentRole</th>\n",
              "      <th>Country</th>\n",
              "      <th>Industry</th>\n",
              "      <th>NumberOfRecommendations</th>\n",
              "      <th>NumberOfConnections</th>\n",
              "    </tr>\n",
              "  </thead>\n",
              "  <tbody>\n",
              "    <tr>\n",
              "      <th>14</th>\n",
              "      <td>85424165</td>\n",
              "      <td>president</td>\n",
              "      <td>Canada</td>\n",
              "      <td>Information Technology and Services</td>\n",
              "      <td>5</td>\n",
              "      <td>406</td>\n",
              "    </tr>\n",
              "    <tr>\n",
              "      <th>2</th>\n",
              "      <td>556570894</td>\n",
              "      <td>vp, customer operations and support</td>\n",
              "      <td>United States</td>\n",
              "      <td>Computer Software</td>\n",
              "      <td>0</td>\n",
              "      <td>270</td>\n",
              "    </tr>\n",
              "    <tr>\n",
              "      <th>5</th>\n",
              "      <td>277449146</td>\n",
              "      <td>vice president of business administration</td>\n",
              "      <td>Spain</td>\n",
              "      <td>Telecommunications</td>\n",
              "      <td>0</td>\n",
              "      <td>0</td>\n",
              "    </tr>\n",
              "    <tr>\n",
              "      <th>271</th>\n",
              "      <td>639290956</td>\n",
              "      <td>key account manager</td>\n",
              "      <td>Spain</td>\n",
              "      <td>Telecommunications</td>\n",
              "      <td>0</td>\n",
              "      <td>0</td>\n",
              "    </tr>\n",
              "    <tr>\n",
              "      <th>10</th>\n",
              "      <td>344601083</td>\n",
              "      <td>vice president - studio media strategy and ope...</td>\n",
              "      <td>United States</td>\n",
              "      <td>Telecommunications</td>\n",
              "      <td>0</td>\n",
              "      <td>0</td>\n",
              "    </tr>\n",
              "  </tbody>\n",
              "</table>\n",
              "</div>"
            ],
            "text/plain": [
              "      PersonId  ... NumberOfConnections\n",
              "14    85424165  ...                 406\n",
              "2    556570894  ...                 270\n",
              "5    277449146  ...                   0\n",
              "271  639290956  ...                   0\n",
              "10   344601083  ...                   0\n",
              "\n",
              "[5 rows x 6 columns]"
            ]
          },
          "metadata": {
            "tags": []
          },
          "execution_count": 29
        }
      ]
    },
    {
      "cell_type": "markdown",
      "metadata": {
        "id": "NfU9XGR0Ykah",
        "colab_type": "text"
      },
      "source": [
        "Making sure there is 100 rows in the Dataframe."
      ]
    },
    {
      "cell_type": "code",
      "metadata": {
        "id": "cQHsjc3AYSKt",
        "colab_type": "code",
        "colab": {
          "base_uri": "https://localhost:8080/",
          "height": 34
        },
        "outputId": "b3c77efd-1b06-4483-a0a7-b13ad7bf5291"
      },
      "source": [
        "people_out.shape"
      ],
      "execution_count": null,
      "outputs": [
        {
          "output_type": "execute_result",
          "data": {
            "text/plain": [
              "(100, 6)"
            ]
          },
          "metadata": {
            "tags": []
          },
          "execution_count": 30
        }
      ]
    },
    {
      "cell_type": "markdown",
      "metadata": {
        "id": "hHLghvoTkscI",
        "colab_type": "text"
      },
      "source": [
        "## Saving the Results"
      ]
    },
    {
      "cell_type": "markdown",
      "metadata": {
        "id": "6lLsZAn5Yz0k",
        "colab_type": "text"
      },
      "source": [
        "The PersonID will be the information saved in a file called \"people.out\" since its the only result required."
      ]
    },
    {
      "cell_type": "code",
      "metadata": {
        "id": "V437QageKykU",
        "colab_type": "code",
        "colab": {}
      },
      "source": [
        "# Saving the PersonId since its the only information required\n",
        "col_to_keep = ['PersonId']\n",
        "people_out[col_to_keep].to_csv(\"people.csv\", header=False, index = False)\n",
        "\n",
        "# Changing the file format to a \".out\" file\n",
        "file_path = 'people.csv'\n",
        "base = os.path.splitext(file_path)[0]\n",
        "os.rename(file_path, base + '.out')"
      ],
      "execution_count": null,
      "outputs": []
    },
    {
      "cell_type": "markdown",
      "metadata": {
        "id": "zgbD-76JuDd2",
        "colab_type": "text"
      },
      "source": [
        "## **Ways in which my algorithm could be improved**\n",
        "\n",
        "From the data I've been given, I would say im happy with the outcome, however, I could improve it by knowing exactly what industries are the most relevant for Alpha's services, which roles are responsable for requesting the type of services the company sells and what countries usually require and seek companies like Alpha. Having this information would've improved the quality of the results."
      ]
    },
    {
      "cell_type": "markdown",
      "metadata": {
        "id": "JM3FB834uQaX",
        "colab_type": "text"
      },
      "source": [
        "## **Additional data I would consider to be relevant to improve my algorithm**\n",
        "\n",
        "There are many ways in which getting more data can improve the results. Having identical data from previous marketing campaigns done by the company, where clients were succesfully gathered, could be used in a machine learning model to find out who is more likely to contact the company. \n",
        "Having information about current or past clients would help compare, between these and the potential ones, to find connections between them. Additionally, having more columns of information would add value to the dataset. Having a column about years in the industry could lead to results where there are more clients who have more experience in their industries, may be easier to work with and are more willing and able to pay for more services. An Activity column, measured by posts per week the user makes, could communicate that the person is more likely to recommend Alpha's services, ranking him higher in the list of potential clients."
      ]
    }
  ]
}