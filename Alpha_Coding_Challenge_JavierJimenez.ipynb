{
  "nbformat": 4,
  "nbformat_minor": 0,
  "metadata": {
    "colab": {
      "name": "Alpha_Coding_Challenge_JavierJimenez.ipynb",
      "provenance": [],
      "collapsed_sections": [],
      "toc_visible": true,
      "include_colab_link": true
    },
    "kernelspec": {
      "name": "python3",
      "display_name": "Python 3"
    }
  },
  "cells": [
    {
      "cell_type": "markdown",
      "metadata": {
        "id": "view-in-github",
        "colab_type": "text"
      },
      "source": [
        "<a href=\"https://colab.research.google.com/github/Javier9898/Top100_Best_Clients_Data_Analysis/blob/master/Alpha_Coding_Challenge_JavierJimenez.ipynb\" target=\"_parent\"><img src=\"https://colab.research.google.com/assets/colab-badge.svg\" alt=\"Open In Colab\"/></a>"
      ]
    },
    {
      "cell_type": "markdown",
      "metadata": {
        "id": "22emd_00fRv7",
        "colab_type": "text"
      },
      "source": [
        "# **Alpha Coding Challenge - English**\n",
        "by Javier Jiménez"
      ]
    },
    {
      "cell_type": "markdown",
      "metadata": {
        "id": "g3JPN6PPhPxr",
        "colab_type": "text"
      },
      "source": [
        "## **Business Problem**\n",
        "Alpha specializes in delivering technology solutions. One of their engagement models is IT Staff Augmentation, where they offer their engineers as part of an extension of the client´s teams. Approximately, 95% of their engineers are located in LATAM. Currently, this company is looking to expand their client portfolio by sending an email marketing campaign."
      ]
    },
    {
      "cell_type": "markdown",
      "metadata": {
        "id": "Mia1ASmrgD1y",
        "colab_type": "text"
      },
      "source": [
        "## **Problem Statement**\n",
        "A file containing LinkedIn public data has been provided. Given this information, Alpha would like to know the top 100 people with the highest chance of becoming their client."
      ]
    },
    {
      "cell_type": "markdown",
      "metadata": {
        "id": "dn5wQjxprDE4",
        "colab_type": "text"
      },
      "source": [
        "## **Data:**\n",
        "The data used will be the one in the file provided: people.in"
      ]
    },
    {
      "cell_type": "markdown",
      "metadata": {
        "id": "r8rVpHJAsfQD",
        "colab_type": "text"
      },
      "source": [
        "### **At the end of this notebook I'll mention:**\n",
        "\n",
        "1.   Ways in which my algorithm could be improved.\n",
        "2.   What additional data I would consider to be relevant to improve my algorithm."
      ]
    },
    {
      "cell_type": "markdown",
      "metadata": {
        "id": "bNPhrCZmgGWL",
        "colab_type": "text"
      },
      "source": [
        "\n",
        "\n",
        "---\n",
        "\n",
        "\n",
        "\n",
        "---\n",
        "\n"
      ]
    },
    {
      "cell_type": "markdown",
      "metadata": {
        "id": "ksva6EaXgKIv",
        "colab_type": "text"
      },
      "source": [
        "## **Code**"
      ]
    },
    {
      "cell_type": "code",
      "metadata": {
        "id": "UDF6rdlxEw7X",
        "colab_type": "code",
        "colab": {
          "base_uri": "https://localhost:8080/",
          "height": 292
        },
        "outputId": "92f398f5-776e-4ebf-952b-fa38879859b0"
      },
      "source": [
        "#installing google translate library\n",
        "!pip install googletrans"
      ],
      "execution_count": 4,
      "outputs": [
        {
          "output_type": "stream",
          "text": [
            "Requirement already satisfied: googletrans in /usr/local/lib/python3.6/dist-packages (3.0.0)\n",
            "Requirement already satisfied: httpx==0.13.3 in /usr/local/lib/python3.6/dist-packages (from googletrans) (0.13.3)\n",
            "Requirement already satisfied: sniffio in /usr/local/lib/python3.6/dist-packages (from httpx==0.13.3->googletrans) (1.1.0)\n",
            "Requirement already satisfied: rfc3986<2,>=1.3 in /usr/local/lib/python3.6/dist-packages (from httpx==0.13.3->googletrans) (1.4.0)\n",
            "Requirement already satisfied: httpcore==0.9.* in /usr/local/lib/python3.6/dist-packages (from httpx==0.13.3->googletrans) (0.9.1)\n",
            "Requirement already satisfied: certifi in /usr/local/lib/python3.6/dist-packages (from httpx==0.13.3->googletrans) (2020.6.20)\n",
            "Requirement already satisfied: hstspreload in /usr/local/lib/python3.6/dist-packages (from httpx==0.13.3->googletrans) (2020.9.15)\n",
            "Requirement already satisfied: idna==2.* in /usr/local/lib/python3.6/dist-packages (from httpx==0.13.3->googletrans) (2.10)\n",
            "Requirement already satisfied: chardet==3.* in /usr/local/lib/python3.6/dist-packages (from httpx==0.13.3->googletrans) (3.0.4)\n",
            "Requirement already satisfied: contextvars>=2.1; python_version < \"3.7\" in /usr/local/lib/python3.6/dist-packages (from sniffio->httpx==0.13.3->googletrans) (2.4)\n",
            "Requirement already satisfied: h2==3.* in /usr/local/lib/python3.6/dist-packages (from httpcore==0.9.*->httpx==0.13.3->googletrans) (3.2.0)\n",
            "Requirement already satisfied: h11<0.10,>=0.8 in /usr/local/lib/python3.6/dist-packages (from httpcore==0.9.*->httpx==0.13.3->googletrans) (0.9.0)\n",
            "Requirement already satisfied: immutables>=0.9 in /usr/local/lib/python3.6/dist-packages (from contextvars>=2.1; python_version < \"3.7\"->sniffio->httpx==0.13.3->googletrans) (0.14)\n",
            "Requirement already satisfied: hpack<4,>=3.0 in /usr/local/lib/python3.6/dist-packages (from h2==3.*->httpcore==0.9.*->httpx==0.13.3->googletrans) (3.0.0)\n",
            "Requirement already satisfied: hyperframe<6,>=5.2.0 in /usr/local/lib/python3.6/dist-packages (from h2==3.*->httpcore==0.9.*->httpx==0.13.3->googletrans) (5.2.0)\n"
          ],
          "name": "stdout"
        }
      ]
    },
    {
      "cell_type": "markdown",
      "metadata": {
        "id": "Q3AbnZcmgNXA",
        "colab_type": "text"
      },
      "source": [
        "## Libraries"
      ]
    },
    {
      "cell_type": "code",
      "metadata": {
        "id": "zpdpREHJFCSC",
        "colab_type": "code",
        "colab": {}
      },
      "source": [
        "import numpy as np # Multi-dimensional arrays and matrices\n",
        "import pandas as pd # Data manipulation\n",
        "\n",
        "import re # Provides regular expression matching operations\n",
        "import os # Provides functions for interacting with the operating system\n",
        "from googletrans import Translator # Allows translation"
      ],
      "execution_count": 5,
      "outputs": []
    },
    {
      "cell_type": "markdown",
      "metadata": {
        "id": "Ryxn93r_hEjj",
        "colab_type": "text"
      },
      "source": [
        "## Loading The Data In"
      ]
    },
    {
      "cell_type": "markdown",
      "metadata": {
        "id": "DT7ZpoCqeej2",
        "colab_type": "text"
      },
      "source": [
        "I'll load in a \"people.in\" file and transform it into a csv file so I'm able to open it with Python's Pandas library to manipulate the data and store it in a Dataframe."
      ]
    },
    {
      "cell_type": "code",
      "metadata": {
        "id": "Y9oWemKOFHYh",
        "colab_type": "code",
        "colab": {}
      },
      "source": [
        "# Loading the data in\n",
        "file_path = 'people.in'\n",
        "base = os.path.splitext(file_path)[0]\n",
        "os.rename(file_path, base+'(in)' + '.csv')\n",
        "\n",
        "people = pd.read_csv(\"people(in).csv\", sep='|', header=None)"
      ],
      "execution_count": 6,
      "outputs": []
    },
    {
      "cell_type": "markdown",
      "metadata": {
        "id": "0QUulbEChIZ4",
        "colab_type": "text"
      },
      "source": [
        "## Data Cleaning"
      ]
    },
    {
      "cell_type": "markdown",
      "metadata": {
        "id": "w1NAsfHqe5w5",
        "colab_type": "text"
      },
      "source": [
        "The data came with no headers so I'll add them to the Dataframe."
      ]
    },
    {
      "cell_type": "code",
      "metadata": {
        "id": "-WzTYMN5FKlr",
        "colab_type": "code",
        "colab": {}
      },
      "source": [
        "# Adding column names to the dataframe\n",
        "people.columns = ['PersonId', 'Name', 'LastName', 'CurrentRole', 'Country', \n",
        "                  'Industry', 'NumberOfRecommendations', 'NumberOfConnections']"
      ],
      "execution_count": 7,
      "outputs": []
    },
    {
      "cell_type": "markdown",
      "metadata": {
        "id": "IurI-l0xfKyq",
        "colab_type": "text"
      },
      "source": [
        "Requesting a small sample to get an idea of what the dataframe looks like."
      ]
    },
    {
      "cell_type": "code",
      "metadata": {
        "id": "qHjWlbi4A6J4",
        "colab_type": "code",
        "colab": {
          "base_uri": "https://localhost:8080/",
          "height": 193
        },
        "outputId": "fa06d675-fd7f-4c7b-90a9-ab829660f75c"
      },
      "source": [
        "# Requesting a small sample of 3 rows\n",
        "people.sample(3)"
      ],
      "execution_count": 8,
      "outputs": [
        {
          "output_type": "execute_result",
          "data": {
            "text/html": [
              "<div>\n",
              "<style scoped>\n",
              "    .dataframe tbody tr th:only-of-type {\n",
              "        vertical-align: middle;\n",
              "    }\n",
              "\n",
              "    .dataframe tbody tr th {\n",
              "        vertical-align: top;\n",
              "    }\n",
              "\n",
              "    .dataframe thead th {\n",
              "        text-align: right;\n",
              "    }\n",
              "</style>\n",
              "<table border=\"1\" class=\"dataframe\">\n",
              "  <thead>\n",
              "    <tr style=\"text-align: right;\">\n",
              "      <th></th>\n",
              "      <th>PersonId</th>\n",
              "      <th>Name</th>\n",
              "      <th>LastName</th>\n",
              "      <th>CurrentRole</th>\n",
              "      <th>Country</th>\n",
              "      <th>Industry</th>\n",
              "      <th>NumberOfRecommendations</th>\n",
              "      <th>NumberOfConnections</th>\n",
              "    </tr>\n",
              "  </thead>\n",
              "  <tbody>\n",
              "    <tr>\n",
              "      <th>701</th>\n",
              "      <td>641020902</td>\n",
              "      <td>kylie</td>\n",
              "      <td>chambers</td>\n",
              "      <td>media sales adviser</td>\n",
              "      <td>Australia</td>\n",
              "      <td>Information Services</td>\n",
              "      <td>0</td>\n",
              "      <td>0</td>\n",
              "    </tr>\n",
              "    <tr>\n",
              "      <th>807</th>\n",
              "      <td>638379440</td>\n",
              "      <td>jeny</td>\n",
              "      <td>cassady</td>\n",
              "      <td>professional puppeteer</td>\n",
              "      <td>Canada</td>\n",
              "      <td>Performing Arts</td>\n",
              "      <td>0</td>\n",
              "      <td>0</td>\n",
              "    </tr>\n",
              "    <tr>\n",
              "      <th>2143</th>\n",
              "      <td>642361227</td>\n",
              "      <td>bruce</td>\n",
              "      <td>clemmer</td>\n",
              "      <td>assistant director and oper&amp;infra</td>\n",
              "      <td>Canada</td>\n",
              "      <td>Education</td>\n",
              "      <td>0</td>\n",
              "      <td>0</td>\n",
              "    </tr>\n",
              "  </tbody>\n",
              "</table>\n",
              "</div>"
            ],
            "text/plain": [
              "       PersonId   Name  ... NumberOfRecommendations NumberOfConnections\n",
              "701   641020902  kylie  ...                       0                   0\n",
              "807   638379440   jeny  ...                       0                   0\n",
              "2143  642361227  bruce  ...                       0                   0\n",
              "\n",
              "[3 rows x 8 columns]"
            ]
          },
          "metadata": {
            "tags": []
          },
          "execution_count": 8
        }
      ]
    },
    {
      "cell_type": "markdown",
      "metadata": {
        "id": "hner5Q3xfVGI",
        "colab_type": "text"
      },
      "source": [
        "Next I'm going to check if there are any anomalies."
      ]
    },
    {
      "cell_type": "code",
      "metadata": {
        "id": "SQVuYOKZBMDY",
        "colab_type": "code",
        "colab": {
          "base_uri": "https://localhost:8080/",
          "height": 272
        },
        "outputId": "a3a7f6f1-d95a-4d84-e7a8-6ceb37cf9c4a"
      },
      "source": [
        "#checking the data info for any anomalies\n",
        "people.info()"
      ],
      "execution_count": 9,
      "outputs": [
        {
          "output_type": "stream",
          "text": [
            "<class 'pandas.core.frame.DataFrame'>\n",
            "RangeIndex: 2779 entries, 0 to 2778\n",
            "Data columns (total 8 columns):\n",
            " #   Column                   Non-Null Count  Dtype \n",
            "---  ------                   --------------  ----- \n",
            " 0   PersonId                 2779 non-null   int64 \n",
            " 1   Name                     2778 non-null   object\n",
            " 2   LastName                 2776 non-null   object\n",
            " 3   CurrentRole              2155 non-null   object\n",
            " 4   Country                  2777 non-null   object\n",
            " 5   Industry                 2779 non-null   object\n",
            " 6   NumberOfRecommendations  2779 non-null   int64 \n",
            " 7   NumberOfConnections      2779 non-null   int64 \n",
            "dtypes: int64(3), object(5)\n",
            "memory usage: 173.8+ KB\n"
          ],
          "name": "stdout"
        }
      ]
    },
    {
      "cell_type": "markdown",
      "metadata": {
        "id": "axNNG2g6-TJE",
        "colab_type": "text"
      },
      "source": [
        "I´ll drop the Name and LastName columns since these factors don't significally affect the quality of a client."
      ]
    },
    {
      "cell_type": "code",
      "metadata": {
        "id": "4oD3ccJ4FLB0",
        "colab_type": "code",
        "colab": {}
      },
      "source": [
        "# Dropping Name and LastName columns\n",
        "people = people.drop(columns= ['Name', 'LastName'])"
      ],
      "execution_count": 10,
      "outputs": []
    },
    {
      "cell_type": "markdown",
      "metadata": {
        "id": "9hcrr5CmA_i1",
        "colab_type": "text"
      },
      "source": [
        "I'll be deleteing all the rows containing NaNs since they only come from **CurrentRole** and **Country**. Nan values in the CurrentRole column could mean these people are currently unemployed in their industry and probably don't require Alpha's services. The reason why I'll delete NaN values in the Country column is because of the miniscule amount of unanswered values that are in it. Deleting these NaN values will reduce the size of the dataset and might help me get results faster while filtering it to choose the best clients."
      ]
    },
    {
      "cell_type": "code",
      "metadata": {
        "id": "Dsx_bfwOFLT7",
        "colab_type": "code",
        "colab": {}
      },
      "source": [
        "# Deleteing all the rows containing NaNs\n",
        "people = people.dropna()"
      ],
      "execution_count": 11,
      "outputs": []
    },
    {
      "cell_type": "markdown",
      "metadata": {
        "id": "DVhj-wU_EsiW",
        "colab_type": "text"
      },
      "source": [
        "It is important to make sure that all the data is in the same language. With the help of the Google Translate library I´ll be able to translate the all data to english if some of it previously wasn't."
      ]
    },
    {
      "cell_type": "code",
      "metadata": {
        "id": "aEcCvC6ILCJC",
        "colab_type": "code",
        "colab": {}
      },
      "source": [
        "# making sure the data is in the same language\n",
        "\n",
        "translator=Translator()\n",
        "\n",
        "translations = {}\n",
        "for column in people[[\"CurrentRole\", \"Industry\"]]:\n",
        "    # unique elements of the column\n",
        "    unique_elements = people[column].unique()\n",
        "    for element in unique_elements:\n",
        "        # add translation to the dictionary\n",
        "        translations[element] = translator.translate(element).text\n",
        "    \n",
        "#print(translations) # to make sure everything is adequately transalted"
      ],
      "execution_count": 12,
      "outputs": []
    },
    {
      "cell_type": "code",
      "metadata": {
        "id": "9lcnkT4lLMsq",
        "colab_type": "code",
        "colab": {}
      },
      "source": [
        "#  Applying the translations to the Dataframe\n",
        "people.replace(translations, inplace = True)"
      ],
      "execution_count": 13,
      "outputs": []
    },
    {
      "cell_type": "markdown",
      "metadata": {
        "id": "RNUpnbngHL7G",
        "colab_type": "text"
      },
      "source": [
        "Having a last look at the data info to make sure its clean and appropiate to work with."
      ]
    },
    {
      "cell_type": "code",
      "metadata": {
        "id": "GPGI9rd7G3DL",
        "colab_type": "code",
        "colab": {
          "base_uri": "https://localhost:8080/",
          "height": 238
        },
        "outputId": "83163078-b599-4cbc-f1b2-ab607d4d81c5"
      },
      "source": [
        "#Checking for any anomalies\n",
        "people.info()"
      ],
      "execution_count": 14,
      "outputs": [
        {
          "output_type": "stream",
          "text": [
            "<class 'pandas.core.frame.DataFrame'>\n",
            "Int64Index: 2153 entries, 0 to 2778\n",
            "Data columns (total 6 columns):\n",
            " #   Column                   Non-Null Count  Dtype \n",
            "---  ------                   --------------  ----- \n",
            " 0   PersonId                 2153 non-null   int64 \n",
            " 1   CurrentRole              2153 non-null   object\n",
            " 2   Country                  2153 non-null   object\n",
            " 3   Industry                 2153 non-null   object\n",
            " 4   NumberOfRecommendations  2153 non-null   int64 \n",
            " 5   NumberOfConnections      2153 non-null   int64 \n",
            "dtypes: int64(3), object(3)\n",
            "memory usage: 117.7+ KB\n"
          ],
          "name": "stdout"
        }
      ]
    },
    {
      "cell_type": "markdown",
      "metadata": {
        "id": "utikbO5IGdqz",
        "colab_type": "text"
      },
      "source": [
        "Having a look at the cleaned Dataframe I'll work with to gather the results."
      ]
    },
    {
      "cell_type": "code",
      "metadata": {
        "id": "IprlSxvxGqtV",
        "colab_type": "code",
        "colab": {
          "base_uri": "https://localhost:8080/",
          "height": 142
        },
        "outputId": "df422ca5-4e05-432c-c5a1-b79917a1010e"
      },
      "source": [
        "# Requesting a small sample\n",
        "people.sample(3)"
      ],
      "execution_count": 15,
      "outputs": [
        {
          "output_type": "execute_result",
          "data": {
            "text/html": [
              "<div>\n",
              "<style scoped>\n",
              "    .dataframe tbody tr th:only-of-type {\n",
              "        vertical-align: middle;\n",
              "    }\n",
              "\n",
              "    .dataframe tbody tr th {\n",
              "        vertical-align: top;\n",
              "    }\n",
              "\n",
              "    .dataframe thead th {\n",
              "        text-align: right;\n",
              "    }\n",
              "</style>\n",
              "<table border=\"1\" class=\"dataframe\">\n",
              "  <thead>\n",
              "    <tr style=\"text-align: right;\">\n",
              "      <th></th>\n",
              "      <th>PersonId</th>\n",
              "      <th>CurrentRole</th>\n",
              "      <th>Country</th>\n",
              "      <th>Industry</th>\n",
              "      <th>NumberOfRecommendations</th>\n",
              "      <th>NumberOfConnections</th>\n",
              "    </tr>\n",
              "  </thead>\n",
              "  <tbody>\n",
              "    <tr>\n",
              "      <th>1526</th>\n",
              "      <td>642868966</td>\n",
              "      <td>board member</td>\n",
              "      <td>United States</td>\n",
              "      <td>Education</td>\n",
              "      <td>0</td>\n",
              "      <td>0</td>\n",
              "    </tr>\n",
              "    <tr>\n",
              "      <th>703</th>\n",
              "      <td>637984874</td>\n",
              "      <td>acting sales manager</td>\n",
              "      <td>Australia</td>\n",
              "      <td>Information Services</td>\n",
              "      <td>0</td>\n",
              "      <td>0</td>\n",
              "    </tr>\n",
              "    <tr>\n",
              "      <th>1792</th>\n",
              "      <td>642233235</td>\n",
              "      <td>owner</td>\n",
              "      <td>United Kingdom</td>\n",
              "      <td>Hospitality</td>\n",
              "      <td>0</td>\n",
              "      <td>0</td>\n",
              "    </tr>\n",
              "  </tbody>\n",
              "</table>\n",
              "</div>"
            ],
            "text/plain": [
              "       PersonId  ... NumberOfConnections\n",
              "1526  642868966  ...                   0\n",
              "703   637984874  ...                   0\n",
              "1792  642233235  ...                   0\n",
              "\n",
              "[3 rows x 6 columns]"
            ]
          },
          "metadata": {
            "tags": []
          },
          "execution_count": 15
        }
      ]
    },
    {
      "cell_type": "markdown",
      "metadata": {
        "id": "cKubBRwqGUGx",
        "colab_type": "text"
      },
      "source": [
        "## Data Exploration"
      ]
    },
    {
      "cell_type": "markdown",
      "metadata": {
        "id": "BWYcB070_Hi5",
        "colab_type": "text"
      },
      "source": [
        "Checking the unique values in **CurrentRole**, **Country** and **Industry** will allow me to gain more insight and clarity to make the correct decisions while choosing the best clients for Alpha's client portfolio."
      ]
    },
    {
      "cell_type": "markdown",
      "metadata": {
        "id": "Hsb95VA1QEgY",
        "colab_type": "text"
      },
      "source": [
        "Checking unique roles of these people and their total amount."
      ]
    },
    {
      "cell_type": "code",
      "metadata": {
        "id": "vX6MP4C4IIg2",
        "colab_type": "code",
        "colab": {
          "base_uri": "https://localhost:8080/",
          "height": 102
        },
        "outputId": "26445394-56ad-4c72-d722-26f8e4f60e43"
      },
      "source": [
        "# Requesting to see unique roles of these people and their total amount.\n",
        "print(people.CurrentRole.unique())\n",
        "print(\" \")\n",
        "print(\"Unique values: \" + str(people.CurrentRole.nunique()))"
      ],
      "execution_count": 16,
      "outputs": [
        {
          "output_type": "stream",
          "text": [
            "['vice president' 'chief revenue officer'\n",
            " 'vp, customer operations and support' ...\n",
            " 'child care eligibility supervisor' 'freelancer' 'channel management']\n",
            " \n",
            "Unique values: 1607\n"
          ],
          "name": "stdout"
        }
      ]
    },
    {
      "cell_type": "markdown",
      "metadata": {
        "id": "rpy3G2aqORzT",
        "colab_type": "text"
      },
      "source": [
        "There are many roles but only a few have the power to request or recommend Alpha's services."
      ]
    },
    {
      "cell_type": "markdown",
      "metadata": {
        "id": "C9J20MuWQO24",
        "colab_type": "text"
      },
      "source": [
        "Checking the unique countries were these people are from and the total amount of these."
      ]
    },
    {
      "cell_type": "code",
      "metadata": {
        "id": "NgP3EaXs_qRy",
        "colab_type": "code",
        "colab": {
          "base_uri": "https://localhost:8080/",
          "height": 187
        },
        "outputId": "33e414a2-108f-4aa8-cbee-b934ef34ac7a"
      },
      "source": [
        "# Requesting to see the unique countries were these people are from\n",
        "# and the total amount of these.\n",
        "print(people.Country.unique())\n",
        "print(\" \")\n",
        "print(\"Unique values: \" + str(people.Country.nunique()))"
      ],
      "execution_count": 17,
      "outputs": [
        {
          "output_type": "stream",
          "text": [
            "['Dominica' 'United States' 'Canada' 'Spain' 'India'\n",
            " 'United Arab Emirates' 'United Kingdom' 'Turkey' 'Germany' 'Bangladesh'\n",
            " 'Costa Rica' 'Mexico' 'Australia' 'China' 'Israel' 'Italy' 'France'\n",
            " 'Netherlands' 'Sweden' 'Japan' 'Switzerland' 'Argentina' 'Chile' 'Poland'\n",
            " 'Belgium' 'Singapore' 'Korea' 'Malta' 'Portugal' 'Brazil' 'South Africa'\n",
            " 'Ireland' 'Colombia' 'Hong Kong' 'Denmark' 'Cyprus' 'Saudi Arabia'\n",
            " 'Taiwan' 'Slovak Republic' 'Finland' 'Norway' 'Czech Republic' 'Kuwait'\n",
            " 'Qatar' 'New Zealand' 'Hungary' 'Malaysia' 'Romania' 'Greece']\n",
            " \n",
            "Unique values: 49\n"
          ],
          "name": "stdout"
        }
      ]
    },
    {
      "cell_type": "markdown",
      "metadata": {
        "id": "BFl5iHG2K7-C",
        "colab_type": "text"
      },
      "source": [
        "The fact that close to 95% of Alpha's developers are from LATAM and the data I've been given is so diverse in locations, makes me believe that Alpha offers a remote working experience to their clients. "
      ]
    },
    {
      "cell_type": "markdown",
      "metadata": {
        "id": "h6o-mFSrQXnt",
        "colab_type": "text"
      },
      "source": [
        "Checking the unique industries were these people are from and the total amount of these."
      ]
    },
    {
      "cell_type": "code",
      "metadata": {
        "id": "gVxS0hk9H-zp",
        "colab_type": "code",
        "colab": {
          "base_uri": "https://localhost:8080/",
          "height": 646
        },
        "outputId": "e7d22c6e-27b4-481f-aec8-508aad0294aa"
      },
      "source": [
        "# Requesting to see the unique industries were these people are from\n",
        "# and the total amount of these.\n",
        "print(people.Industry.unique())\n",
        "print(\" \")\n",
        "print(\"Unique values: \" + str(people.Industry.nunique()))"
      ],
      "execution_count": 18,
      "outputs": [
        {
          "output_type": "stream",
          "text": [
            "['Telecommunications' 'Publishing' 'Computer Software' 'Electronics'\n",
            " 'Investment Banking' 'Internet' 'Business Services' 'Oil & Energy'\n",
            " 'Information Technology and Services' 'Renewables & Environment'\n",
            " 'Consumer Electronics' 'Management Consulting' 'Insurance' 'Banking'\n",
            " 'Food & Beverages' 'Manufacturing' 'Museums and Institutions'\n",
            " 'Automobiles' 'Nonprofit Organization Management' 'Education'\n",
            " 'Media Production' 'Brokerage' 'Transportation/Trucking/Railroad'\n",
            " 'Hospitality' 'Marketing and Advertising' 'Test & Measurement Equipment'\n",
            " 'Office Products' 'Construction' 'Retail' 'Legal Services' 'Design'\n",
            " 'Computer Hardware' 'Hospital & Health Care' 'Furniture' 'Consumer Goods'\n",
            " 'Utilities' 'Security Products & Services' 'Biotechnology'\n",
            " 'Pharmaceuticals' 'Building Materials' 'Chemicals' 'Consumer Services'\n",
            " 'Boats & Submarines' 'Newspapers' 'Real Estate' 'Financial Services'\n",
            " 'Information Services' 'Libraries' 'Computer & Network Security'\n",
            " 'Toys & Games' 'Education Management' 'Tobacco'\n",
            " 'Motion Pictures and Film' 'Environmental Services' 'Program Development'\n",
            " 'Staffing and Recruiting' 'Industrial Automation'\n",
            " 'Venture Capital & Private Equity' 'Entertainment' 'Cultural'\n",
            " 'Tires & Rubber' 'Leisure, Travel & Tourism' 'Sports' 'Fund-Raising'\n",
            " 'Professional Training & Coaching' 'Human Resources' 'E-Learning'\n",
            " 'Electrical/Electronic Manufacturing' 'Logistics and Supply Chain'\n",
            " 'Government Administration' 'Public Safety' 'Computer Networking'\n",
            " 'Car & Truck Rental' 'Motor Vehicle Dealers' 'Airlines/Aviation'\n",
            " 'Public Relations and Communications' 'Law Practice' 'Performing Arts'\n",
            " 'Individual & Family Services' 'Mental Health Care' 'Civil Engineering'\n",
            " 'Maritime' 'Research' 'Music' 'Mining & Metals'\n",
            " 'Package/Freight Delivery' 'Sporting Goods' 'Civic & Social Organization'\n",
            " 'Online Media' 'Auctions' 'B Roa d or st Mejia' 'Market Research'\n",
            " 'Political Organization' 'Philanthropy' 'Military'\n",
            " 'Primary/Secondary Education' 'Writing and Editing' 'Arts and Crafts'\n",
            " 'Glass, Ceramics & Concrete' 'Higher Education' 'Accounting'\n",
            " 'International Trade and Development' 'Health, Wellness and Fitness'\n",
            " 'Printing' 'Investment Management' 'Food Production'\n",
            " 'Religious Institutions' 'Textiles' 'Computer Games' 'Photography'\n",
            " 'Architecture & Planning' 'Wire & Cable']\n",
            " \n",
            "Unique values: 112\n"
          ],
          "name": "stdout"
        }
      ]
    },
    {
      "cell_type": "markdown",
      "metadata": {
        "id": "wGFkvLzqNH7M",
        "colab_type": "text"
      },
      "source": [
        "While every industry could benefit from technology, not every industry requires or is neccesarily actively looking for IT services."
      ]
    },
    {
      "cell_type": "markdown",
      "metadata": {
        "id": "eXzBbbqQhZvF",
        "colab_type": "text"
      },
      "source": [
        "## Choosing The Best Clients"
      ]
    },
    {
      "cell_type": "markdown",
      "metadata": {
        "id": "cR5ApfYkhfvI",
        "colab_type": "text"
      },
      "source": [
        "I will define a good client as one who is part of an industry relevant to technology and has a current role capable of hiring or recommending an IT staff augmentation to the company. I'll also take into consideration the country where they are on, since in some countries IT is more common and sought. Lastly I'll rank the remaining people by their number of connections and recommendations since these can impact the company's popularity upon a recommendation from the client. With this data I can create a new Dataframe that contains only the selected people for a better handling of information."
      ]
    },
    {
      "cell_type": "markdown",
      "metadata": {
        "id": "hpVTE9kJQ1Gs",
        "colab_type": "text"
      },
      "source": [
        "Filtering data by people who work in industries relevant to IT."
      ]
    },
    {
      "cell_type": "code",
      "metadata": {
        "id": "9mAbcQ89FK4i",
        "colab_type": "code",
        "colab": {}
      },
      "source": [
        "# Industires where IT staff augmentation may most likely be wanted\n",
        "\n",
        "relevant_industries=['Telecommunications', 'Computer Software',\n",
        "       'Investment Banking', 'Internet',\n",
        "       'Information Technology and Services',\n",
        "       'Management Consulting', 'Nonprofit Organization Management', \n",
        "       'Computer Hardware', 'Biotechnology',\n",
        "       'Consumer Services', 'Information Services',\n",
        "       'Computer & Network Security',\n",
        "       'Program Development','Staffing and Recruiting', 'Industrial Automation', \n",
        "       'E-Learning','Logistics and Supply Chain', \n",
        "       'Government Administration', 'Public Safety', \n",
        "       'Computer Networking', 'Airlines/Aviation', 'Maritime', 'Research',\n",
        "       'Civic & Social Organization', 'Online Media','Market Research',\n",
        "       'Political Organization', 'Philanthropy', 'Military',\n",
        "       'Higher Education','Computer Games', 'Wire & Cable', 'Banking']"
      ],
      "execution_count": 19,
      "outputs": []
    },
    {
      "cell_type": "code",
      "metadata": {
        "id": "_5mcaYmaFKEL",
        "colab_type": "code",
        "colab": {}
      },
      "source": [
        "# Creating a DataFrame that stores the rows of the desired industries\n",
        "df1 = pd.DataFrame (columns = [\"PersonId\", \"CurrentRole\", \"Country\", \"Industry\", \n",
        "                               \"NumberOfRecommendations\", \"NumberOfConnections\"])\n",
        "\n",
        "# Storing only the rows from the desired industries in the dataframe\n",
        "for row in people.Industry:\n",
        "    if row in (relevant_industries):\n",
        "      df1 = df1.append(people[people['Industry']==row])"
      ],
      "execution_count": 20,
      "outputs": []
    },
    {
      "cell_type": "code",
      "metadata": {
        "id": "w3uQmzD9H31i",
        "colab_type": "code",
        "colab": {}
      },
      "source": [
        "# dropping dupliacte results\n",
        "df1 = df1.drop_duplicates(subset=['PersonId'])"
      ],
      "execution_count": 21,
      "outputs": []
    },
    {
      "cell_type": "code",
      "metadata": {
        "id": "UommlUKYRDTF",
        "colab_type": "code",
        "colab": {
          "base_uri": "https://localhost:8080/",
          "height": 34
        },
        "outputId": "f37946ee-6994-409c-e1f2-d1f07b36cbe4"
      },
      "source": [
        "# Checking how many people remain\n",
        "df1.shape"
      ],
      "execution_count": 22,
      "outputs": [
        {
          "output_type": "execute_result",
          "data": {
            "text/plain": [
              "(524, 6)"
            ]
          },
          "metadata": {
            "tags": []
          },
          "execution_count": 22
        }
      ]
    },
    {
      "cell_type": "markdown",
      "metadata": {
        "id": "jtdkqjMdRQAh",
        "colab_type": "text"
      },
      "source": [
        "After filtering by Indsutries, 524 people remain..."
      ]
    },
    {
      "cell_type": "markdown",
      "metadata": {
        "id": "5vMwuaciRVVv",
        "colab_type": "text"
      },
      "source": [
        "Next, I'll filter the data by the people with roles who have the power to recommend or hire in their companies."
      ]
    },
    {
      "cell_type": "code",
      "metadata": {
        "id": "risp_gdAIkGr",
        "colab_type": "code",
        "colab": {}
      },
      "source": [
        "# Roles with the power to recommend or hire in their companies.\n",
        "\n",
        "search_values = ['president', 'director', 'principal', 'manager', 'research', \n",
        "            'human resources', 'recruiter','founder', 'operations', \n",
        "            'coordinator', 'chief', 'executive']"
      ],
      "execution_count": 23,
      "outputs": []
    },
    {
      "cell_type": "code",
      "metadata": {
        "id": "c_fEFHcxJFof",
        "colab_type": "code",
        "colab": {}
      },
      "source": [
        "# Leaving only the relevant role position rows in the dataframe\n",
        "df1 = df1[df1.CurrentRole.str.contains('|'.join(search_values))]"
      ],
      "execution_count": 24,
      "outputs": []
    },
    {
      "cell_type": "code",
      "metadata": {
        "id": "6QNs48YaRvTW",
        "colab_type": "code",
        "colab": {
          "base_uri": "https://localhost:8080/",
          "height": 34
        },
        "outputId": "ba1fc9a5-21ba-45d1-c9c5-3d527ff2be29"
      },
      "source": [
        "df1.shape"
      ],
      "execution_count": 25,
      "outputs": [
        {
          "output_type": "execute_result",
          "data": {
            "text/plain": [
              "(252, 6)"
            ]
          },
          "metadata": {
            "tags": []
          },
          "execution_count": 25
        }
      ]
    },
    {
      "cell_type": "markdown",
      "metadata": {
        "id": "td1sCSKMRxtg",
        "colab_type": "text"
      },
      "source": [
        "After filtering, only 251 people remain..."
      ]
    },
    {
      "cell_type": "markdown",
      "metadata": {
        "id": "yz5x9TaqR4Mw",
        "colab_type": "text"
      },
      "source": [
        "Next I'll filter the data by Countries that may be more accepting of technology and its benefits."
      ]
    },
    {
      "cell_type": "code",
      "metadata": {
        "id": "n1qt3qIEVVLC",
        "colab_type": "code",
        "colab": {
          "base_uri": "https://localhost:8080/",
          "height": 102
        },
        "outputId": "c2773316-ca16-4166-d4fc-ed83650f54e1"
      },
      "source": [
        "df1.Country.unique()"
      ],
      "execution_count": 26,
      "outputs": [
        {
          "output_type": "execute_result",
          "data": {
            "text/plain": [
              "array(['Dominica', 'Spain', 'United States', 'United Kingdom', 'Sweden',\n",
              "       'Canada', 'United Arab Emirates', 'Germany', 'France', 'Israel',\n",
              "       'Ireland', 'South Africa', 'Hong Kong', 'Australia', 'Japan',\n",
              "       'Colombia', 'Saudi Arabia', 'Singapore', 'Netherlands', 'Portugal',\n",
              "       'Switzerland', 'New Zealand', 'China', 'Italy'], dtype=object)"
            ]
          },
          "metadata": {
            "tags": []
          },
          "execution_count": 26
        }
      ]
    },
    {
      "cell_type": "code",
      "metadata": {
        "id": "oUSA0NXmSqnX",
        "colab_type": "code",
        "colab": {}
      },
      "source": [
        "relevant_countries =['Spain', 'United States', 'United Kingdom', 'Sweden',\n",
        "       'Canada', 'United Arab Emirates', 'Germany', 'France', 'Israel',\n",
        "       'Ireland', 'South Africa', 'Hong Kong', 'Australia', 'Japan',\n",
        "       'Colombia', 'Saudi Arabia', 'Singapore', 'Netherlands', 'Portugal',\n",
        "       'Switzerland', 'New Zealand', 'China', 'Italy']"
      ],
      "execution_count": 27,
      "outputs": []
    },
    {
      "cell_type": "code",
      "metadata": {
        "id": "nTWaZATBUY0b",
        "colab_type": "code",
        "colab": {}
      },
      "source": [
        "# Storing only the rows from the desired countries in a Dataframe\n",
        "df2 = pd.DataFrame (columns = [\"PersonId\", \"CurrentRole\", \"Country\", \"Industry\", \n",
        "                               \"NumberOfRecommendations\", \"NumberOfConnections\"])\n",
        "\n",
        "for row in df1.Country:\n",
        "    if row in (relevant_countries):\n",
        "      df2 = df2.append(df1[df1['Country']==row])"
      ],
      "execution_count": 28,
      "outputs": []
    },
    {
      "cell_type": "code",
      "metadata": {
        "id": "RjD7742WUrNh",
        "colab_type": "code",
        "colab": {}
      },
      "source": [
        "# dropping dupliacte results\n",
        "df2 = df2.drop_duplicates(subset=['PersonId'])"
      ],
      "execution_count": 29,
      "outputs": []
    },
    {
      "cell_type": "code",
      "metadata": {
        "id": "MvtBG_1dUuEJ",
        "colab_type": "code",
        "colab": {
          "base_uri": "https://localhost:8080/",
          "height": 34
        },
        "outputId": "f29ac767-30b0-41bc-bfe8-3ec43f496b15"
      },
      "source": [
        "df2.shape"
      ],
      "execution_count": 30,
      "outputs": [
        {
          "output_type": "execute_result",
          "data": {
            "text/plain": [
              "(251, 6)"
            ]
          },
          "metadata": {
            "tags": []
          },
          "execution_count": 30
        }
      ]
    },
    {
      "cell_type": "markdown",
      "metadata": {
        "id": "fdZfvZ8HXFSK",
        "colab_type": "text"
      },
      "source": [
        "After filtering, only 250 people remain..."
      ]
    },
    {
      "cell_type": "markdown",
      "metadata": {
        "id": "5_RAmaZKXSUM",
        "colab_type": "text"
      },
      "source": [
        "Lastly, I'll sort people by their number of connections and recommendations since these can impact the company's popularity upon a recommendation from the client. These would be the best clients. I'm only taking the top 100 since its the amount required."
      ]
    },
    {
      "cell_type": "code",
      "metadata": {
        "id": "NHI4ImCKJ_sg",
        "colab_type": "code",
        "colab": {}
      },
      "source": [
        "# Sorting people by their number of connections and recommendations\n",
        "\n",
        "people_out = df2.sort_values(['NumberOfConnections', 'NumberOfRecommendations'], \n",
        "                   ascending=False).head(100)"
      ],
      "execution_count": 31,
      "outputs": []
    },
    {
      "cell_type": "markdown",
      "metadata": {
        "id": "XlnCsBBeXhhT",
        "colab_type": "text"
      },
      "source": [
        "## Taking a look at the Results"
      ]
    },
    {
      "cell_type": "markdown",
      "metadata": {
        "id": "u62hrQX_YKMI",
        "colab_type": "text"
      },
      "source": [
        "Requesting the top 5 clients"
      ]
    },
    {
      "cell_type": "code",
      "metadata": {
        "id": "Xqgs0tQzXlGy",
        "colab_type": "code",
        "colab": {
          "base_uri": "https://localhost:8080/",
          "height": 272
        },
        "outputId": "a3b4ee62-5221-4082-a192-c129fc3b1d5b"
      },
      "source": [
        "#Requesting the top 5\n",
        "people_out.head(5)"
      ],
      "execution_count": 32,
      "outputs": [
        {
          "output_type": "execute_result",
          "data": {
            "text/html": [
              "<div>\n",
              "<style scoped>\n",
              "    .dataframe tbody tr th:only-of-type {\n",
              "        vertical-align: middle;\n",
              "    }\n",
              "\n",
              "    .dataframe tbody tr th {\n",
              "        vertical-align: top;\n",
              "    }\n",
              "\n",
              "    .dataframe thead th {\n",
              "        text-align: right;\n",
              "    }\n",
              "</style>\n",
              "<table border=\"1\" class=\"dataframe\">\n",
              "  <thead>\n",
              "    <tr style=\"text-align: right;\">\n",
              "      <th></th>\n",
              "      <th>PersonId</th>\n",
              "      <th>CurrentRole</th>\n",
              "      <th>Country</th>\n",
              "      <th>Industry</th>\n",
              "      <th>NumberOfRecommendations</th>\n",
              "      <th>NumberOfConnections</th>\n",
              "    </tr>\n",
              "  </thead>\n",
              "  <tbody>\n",
              "    <tr>\n",
              "      <th>14</th>\n",
              "      <td>85424165</td>\n",
              "      <td>president</td>\n",
              "      <td>Canada</td>\n",
              "      <td>Information Technology and Services</td>\n",
              "      <td>5</td>\n",
              "      <td>406</td>\n",
              "    </tr>\n",
              "    <tr>\n",
              "      <th>2</th>\n",
              "      <td>556570894</td>\n",
              "      <td>vp, customer operations and support</td>\n",
              "      <td>United States</td>\n",
              "      <td>Computer Software</td>\n",
              "      <td>0</td>\n",
              "      <td>270</td>\n",
              "    </tr>\n",
              "    <tr>\n",
              "      <th>5</th>\n",
              "      <td>277449146</td>\n",
              "      <td>vice president of business administration</td>\n",
              "      <td>Spain</td>\n",
              "      <td>Telecommunications</td>\n",
              "      <td>0</td>\n",
              "      <td>0</td>\n",
              "    </tr>\n",
              "    <tr>\n",
              "      <th>271</th>\n",
              "      <td>639290956</td>\n",
              "      <td>key account manager</td>\n",
              "      <td>Spain</td>\n",
              "      <td>Telecommunications</td>\n",
              "      <td>0</td>\n",
              "      <td>0</td>\n",
              "    </tr>\n",
              "    <tr>\n",
              "      <th>10</th>\n",
              "      <td>344601083</td>\n",
              "      <td>vice president - studio media strategy and ope...</td>\n",
              "      <td>United States</td>\n",
              "      <td>Telecommunications</td>\n",
              "      <td>0</td>\n",
              "      <td>0</td>\n",
              "    </tr>\n",
              "  </tbody>\n",
              "</table>\n",
              "</div>"
            ],
            "text/plain": [
              "      PersonId  ... NumberOfConnections\n",
              "14    85424165  ...                 406\n",
              "2    556570894  ...                 270\n",
              "5    277449146  ...                   0\n",
              "271  639290956  ...                   0\n",
              "10   344601083  ...                   0\n",
              "\n",
              "[5 rows x 6 columns]"
            ]
          },
          "metadata": {
            "tags": []
          },
          "execution_count": 32
        }
      ]
    },
    {
      "cell_type": "markdown",
      "metadata": {
        "id": "NfU9XGR0Ykah",
        "colab_type": "text"
      },
      "source": [
        "Making sure there is 100 rows in the Dataframe."
      ]
    },
    {
      "cell_type": "code",
      "metadata": {
        "id": "cQHsjc3AYSKt",
        "colab_type": "code",
        "colab": {
          "base_uri": "https://localhost:8080/",
          "height": 34
        },
        "outputId": "aca45a3a-94b4-4c17-d7c2-897f57d89c1d"
      },
      "source": [
        "people_out.shape"
      ],
      "execution_count": 33,
      "outputs": [
        {
          "output_type": "execute_result",
          "data": {
            "text/plain": [
              "(100, 6)"
            ]
          },
          "metadata": {
            "tags": []
          },
          "execution_count": 33
        }
      ]
    },
    {
      "cell_type": "markdown",
      "metadata": {
        "id": "hHLghvoTkscI",
        "colab_type": "text"
      },
      "source": [
        "## Saving the Results"
      ]
    },
    {
      "cell_type": "markdown",
      "metadata": {
        "id": "6lLsZAn5Yz0k",
        "colab_type": "text"
      },
      "source": [
        "The PersonID will be the information saved in a file called \"people.out\" since its the only result required."
      ]
    },
    {
      "cell_type": "code",
      "metadata": {
        "id": "V437QageKykU",
        "colab_type": "code",
        "colab": {}
      },
      "source": [
        "# Saving the PersonId since its the only information required\n",
        "col_to_keep = ['PersonId']\n",
        "people_out[col_to_keep].to_csv(\"people.csv\", header=False, index = False)\n",
        "\n",
        "# Changing the file format to a \".out\" file\n",
        "file_path = 'people.csv'\n",
        "base = os.path.splitext(file_path)[0]\n",
        "os.rename(file_path, base + '.out')"
      ],
      "execution_count": 34,
      "outputs": []
    },
    {
      "cell_type": "markdown",
      "metadata": {
        "id": "zgbD-76JuDd2",
        "colab_type": "text"
      },
      "source": [
        "## **Ways in which my algorithm could be improved**\n",
        "\n",
        "From the data I've been given, I would say im happy with the outcome, however, I could improve it by knowing exactly what industries are the most relevant for Alpha's services, which roles are responsable for requesting the type of services the company sells and what countries usually require and seek companies like Alpha. Having this information would've improved the quality of the results."
      ]
    },
    {
      "cell_type": "markdown",
      "metadata": {
        "id": "JM3FB834uQaX",
        "colab_type": "text"
      },
      "source": [
        "## **Additional data I would consider to be relevant to improve my algorithm**\n",
        "\n",
        "There are many ways in which getting more data can improve the results. Having identical data from previous marketing campaigns done by the company, where clients were succesfully gathered, could be used in a machine learning model to find out who is more likely to contact the company. \n",
        "Having information about current or past clients would help compare, between these and the potential ones, to find connections between them. Additionally, having more columns of information would add value to the dataset. Having a column about years in the industry could lead to results where there are more clients who have more experience in their industries, may be easier to work with and are more willing and able to pay for more services. An Activity column, measured by posts per week the user makes, could communicate that the person is more likely to recommend Alpha's services, ranking him higher in the list of potential clients."
      ]
    }
  ]
}